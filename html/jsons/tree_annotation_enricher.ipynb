{
 "cells": [
  {
   "cell_type": "markdown",
   "metadata": {},
   "source": [
    "## Enrich the annotations on the JSON trees\n",
    "\n",
    "This code adds two quick enhancements to the existing trees. It first adds internal node annotations to the tree with details for their composite organ types. This can be useful for exploration of the tree. Secondly it adds aggregate lengths for caterpiller branches. I tried using this to make the caterpiller branches more angled, but it ended up looking really poorly. Keep the annotations for later use."
   ]
  },
  {
   "cell_type": "code",
   "execution_count": 1,
   "metadata": {},
   "outputs": [],
   "source": [
    "import json"
   ]
  },
  {
   "cell_type": "code",
   "execution_count": 122,
   "metadata": {},
   "outputs": [],
   "source": [
    "with open('ADR1_tree.json', 'r') as myfile:\n",
    "    data=myfile.read()\n",
    "    json_tree = json.loads(data)"
   ]
  },
  {
   "cell_type": "code",
   "execution_count": 132,
   "metadata": {},
   "outputs": [
    {
     "name": "stdout",
     "output_type": "stream",
     "text": [
      "{'Gills': 1.0, 'Post intestine': 0.9999999999999998, 'Heart': 1.0, 'NC': 1.0, 'DHC': 1.0, 'Intestinal bulb': 1.0, 'Brain': 0.9999999999999999, 'Cardiomyocytes': 1.0, 'Right eye': 1.0, 'Left eye': 1.0, 'Blood': 1.0}\n"
     ]
    }
   ],
   "source": [
    "# recursively traverse the JSON tree, setting the organ proportions at all internal nodes\n",
    "# if this is a internal node, add up the proportions of a call to each child. If this \n",
    "# is a leaf node, just return its organ proportion\n",
    "#\n",
    "# recursion can be a problem in Python given it's lack of tail recursion optimization, \n",
    "# but this ran fine on ADR1, so I think we're ok\n",
    "def aggregate_organ_proportions(node) -> dict:\n",
    "    aggregated_proportions = {}\n",
    "    if 'children' in node:\n",
    "        for child in node['children']:\n",
    "            proportions_to_add = aggregate_organ_proportions(child)\n",
    "            for key,value in proportions_to_add.items():\n",
    "                aggregated_proportions[key] = aggregated_proportions.get(key,0.0) + float(value)\n",
    "    else:\n",
    "        aggregated_proportions = node['organProportions']\n",
    "    \n",
    "    node['aggregated_proportions'] = aggregated_proportions\n",
    "    return aggregated_proportions\n",
    "\n",
    "# start the process at the root\n",
    "final_props = aggregate_organ_proportions(json_tree[0])\n",
    "\n",
    "# should be within the aggregate margin of error of ~1.0\n",
    "print(final_props)"
   ]
  },
  {
   "cell_type": "code",
   "execution_count": 124,
   "metadata": {},
   "outputs": [
    {
     "name": "stdout",
     "output_type": "stream",
     "text": [
      "0.8524754818354243\n"
     ]
    }
   ],
   "source": [
    "# set the height of each caterpillar node. The node starts at the first 'is_spine': true until we hit a \n",
    "# false node\n",
    "def set_caterpillar_length(node,current_length) -> float:\n",
    "    # If we're not a spine, recursively call our children with a starting length of zero, \n",
    "    # and then return current_length + 0\n",
    "    if not node['is_spine']:\n",
    "        if 'children' in node:\n",
    "            [set_caterpillar_length(child,0) for child in node['children']]\n",
    "        return current_length\n",
    "    else:\n",
    "        node['spine_length'] = current_length + node['length'] + max([set_caterpillar_length(child,current_length) for child in node['children']])\n",
    "        return node['spine_length']\n",
    "\n",
    "final_props = set_caterpillar_length(json_tree[0],0)\n",
    "\n",
    "# should be ~1.0, with a bit \n",
    "print(final_props)"
   ]
  },
  {
   "cell_type": "code",
   "execution_count": 131,
   "metadata": {},
   "outputs": [],
   "source": [
    "json_text = json.dumps(json_tree, sort_keys=True, indent=4)\n",
    "output_file = open(\"ADR1_tree_rich.json\",\"w\")\n",
    "output_file.write(json_text + \"\\n\")\n",
    "output_file.close()"
   ]
  },
  {
   "cell_type": "markdown",
   "metadata": {},
   "source": [
    "### Stuff below this was to correct for blood alleles, but this is already done\n"
   ]
  },
  {
   "cell_type": "code",
   "execution_count": 77,
   "metadata": {},
   "outputs": [],
   "source": [
    "# convert our JSON back to Newick so that we can run ete3's distance calculation. As a side effect,\n",
    "# store the leaf names and their organ types\n",
    "leaf_names = []\n",
    "leaf_organ_types = {}\n",
    "leaf_organ_proportions = {}\n",
    "def to_newick(node) -> str:\n",
    "    if 'children' in node:\n",
    "        child_str = []\n",
    "        for child in node['children']:\n",
    "            child_str.append(to_newick(child))\n",
    "        return \"((\" + \",\".join(child_str) + \"):\" + str(node['length']) + \")\"\n",
    "    else:\n",
    "        leaf_names.append(node['name'])\n",
    "        assert(len(node['organProportions']) == 1)\n",
    "        leaf_organ_types[node['name']] = next(iter(node['organProportions'].keys()))\n",
    "        leaf_organ_proportions[node['name']] = next(iter(node['organProportions'].values()))\n",
    "        return node['name'] + \":\" + str(node['length']) \n",
    "\n",
    "newick_str = to_newick(json_tree[0]) + \";\"\n"
   ]
  },
  {
   "cell_type": "code",
   "execution_count": 90,
   "metadata": {},
   "outputs": [],
   "source": [
    "from ete3 import Tree\n",
    "ete_tree = Tree(newick_str)"
   ]
  },
  {
   "cell_type": "code",
   "execution_count": 99,
   "metadata": {},
   "outputs": [
    {
     "data": {
      "text/plain": [
       "{'Blood',\n",
       " 'Brain',\n",
       " 'Cardiomyocytes',\n",
       " 'DHC',\n",
       " 'Gills',\n",
       " 'Heart',\n",
       " 'Intestinal bulb',\n",
       " 'Left eye',\n",
       " 'NC',\n",
       " 'Post intestine',\n",
       " 'Right eye'}"
      ]
     },
     "execution_count": 99,
     "metadata": {},
     "output_type": "execute_result"
    }
   ],
   "source": [
    "organ_set = set(leaf_organ_types.values())\n",
    "organ_set"
   ]
  },
  {
   "cell_type": "code",
   "execution_count": 106,
   "metadata": {},
   "outputs": [],
   "source": [
    "# we want a specific order (currently in the paper), so set this a list\n",
    "organs = ['Blood','Brain','Left eye','Right eye','Gills','Intestinal bulb','Post intestine','Cardiomyocytes','Heart','NC','DHC']"
   ]
  },
  {
   "cell_type": "code",
   "execution_count": 110,
   "metadata": {},
   "outputs": [
    {
     "ename": "KeyboardInterrupt",
     "evalue": "",
     "output_type": "error",
     "traceback": [
      "\u001b[0;31m---------------------------------------------------------------------------\u001b[0m",
      "\u001b[0;31mKeyboardInterrupt\u001b[0m                         Traceback (most recent call last)",
      "\u001b[0;32m<ipython-input-110-209f19577002>\u001b[0m in \u001b[0;36m<module>\u001b[0;34m()\u001b[0m\n\u001b[1;32m      6\u001b[0m             \u001b[0mcommon\u001b[0m \u001b[0;34m=\u001b[0m \u001b[0mete_tree\u001b[0m\u001b[0;34m.\u001b[0m\u001b[0mget_common_ancestor\u001b[0m\u001b[0;34m(\u001b[0m\u001b[0;34m[\u001b[0m\u001b[0mleaf1\u001b[0m\u001b[0;34m,\u001b[0m\u001b[0mleaf2\u001b[0m\u001b[0;34m]\u001b[0m\u001b[0;34m)\u001b[0m\u001b[0;34m\u001b[0m\u001b[0m\n\u001b[1;32m      7\u001b[0m             \u001b[0mdist1\u001b[0m \u001b[0;34m=\u001b[0m \u001b[0mete_tree\u001b[0m\u001b[0;34m.\u001b[0m\u001b[0mget_distance\u001b[0m\u001b[0;34m(\u001b[0m\u001b[0mleaf1\u001b[0m\u001b[0;34m,\u001b[0m \u001b[0mcommon\u001b[0m\u001b[0;34m)\u001b[0m\u001b[0;34m\u001b[0m\u001b[0m\n\u001b[0;32m----> 8\u001b[0;31m             \u001b[0mdist2\u001b[0m \u001b[0;34m=\u001b[0m \u001b[0mete_tree\u001b[0m\u001b[0;34m.\u001b[0m\u001b[0mget_distance\u001b[0m\u001b[0;34m(\u001b[0m\u001b[0mleaf2\u001b[0m\u001b[0;34m,\u001b[0m \u001b[0mcommon\u001b[0m\u001b[0;34m)\u001b[0m\u001b[0;34m\u001b[0m\u001b[0m\n\u001b[0m\u001b[1;32m      9\u001b[0m             \u001b[0morg1\u001b[0m \u001b[0;34m=\u001b[0m \u001b[0morgans\u001b[0m\u001b[0;34m.\u001b[0m\u001b[0mindex\u001b[0m\u001b[0;34m(\u001b[0m\u001b[0mleaf_organ_types\u001b[0m\u001b[0;34m[\u001b[0m\u001b[0mleaf1\u001b[0m\u001b[0;34m]\u001b[0m\u001b[0;34m)\u001b[0m\u001b[0;34m\u001b[0m\u001b[0m\n\u001b[1;32m     10\u001b[0m             \u001b[0morg2\u001b[0m \u001b[0;34m=\u001b[0m \u001b[0morgans\u001b[0m\u001b[0;34m.\u001b[0m\u001b[0mindex\u001b[0m\u001b[0;34m(\u001b[0m\u001b[0mleaf_organ_types\u001b[0m\u001b[0;34m[\u001b[0m\u001b[0mleaf2\u001b[0m\u001b[0;34m]\u001b[0m\u001b[0;34m)\u001b[0m\u001b[0;34m\u001b[0m\u001b[0m\n",
      "\u001b[0;32m/anaconda3/lib/python3.6/site-packages/ete3/coretype/tree.py\u001b[0m in \u001b[0;36mget_distance\u001b[0;34m(self, target, target2, topology_only)\u001b[0m\n\u001b[1;32m   1006\u001b[0m \u001b[0;34m\u001b[0m\u001b[0m\n\u001b[1;32m   1007\u001b[0m         \u001b[0mtarget\u001b[0m\u001b[0;34m,\u001b[0m \u001b[0mtarget2\u001b[0m \u001b[0;34m=\u001b[0m \u001b[0m_translate_nodes\u001b[0m\u001b[0;34m(\u001b[0m\u001b[0mroot\u001b[0m\u001b[0;34m,\u001b[0m \u001b[0mtarget\u001b[0m\u001b[0;34m,\u001b[0m \u001b[0mtarget2\u001b[0m\u001b[0;34m)\u001b[0m\u001b[0;34m\u001b[0m\u001b[0m\n\u001b[0;32m-> 1008\u001b[0;31m         \u001b[0mancestor\u001b[0m \u001b[0;34m=\u001b[0m \u001b[0mroot\u001b[0m\u001b[0;34m.\u001b[0m\u001b[0mget_common_ancestor\u001b[0m\u001b[0;34m(\u001b[0m\u001b[0mtarget\u001b[0m\u001b[0;34m,\u001b[0m \u001b[0mtarget2\u001b[0m\u001b[0;34m)\u001b[0m\u001b[0;34m\u001b[0m\u001b[0m\n\u001b[0m\u001b[1;32m   1009\u001b[0m \u001b[0;34m\u001b[0m\u001b[0m\n\u001b[1;32m   1010\u001b[0m         \u001b[0mdist\u001b[0m \u001b[0;34m=\u001b[0m \u001b[0;36m0.0\u001b[0m\u001b[0;34m\u001b[0m\u001b[0m\n",
      "\u001b[0;32m/anaconda3/lib/python3.6/site-packages/ete3/coretype/tree.py\u001b[0m in \u001b[0;36mget_common_ancestor\u001b[0;34m(self, *target_nodes, **kargs)\u001b[0m\n\u001b[1;32m    883\u001b[0m \u001b[0;34m\u001b[0m\u001b[0m\n\u001b[1;32m    884\u001b[0m         \u001b[0;31m# Convert node names into node instances\u001b[0m\u001b[0;34m\u001b[0m\u001b[0;34m\u001b[0m\u001b[0m\n\u001b[0;32m--> 885\u001b[0;31m         \u001b[0mtarget_nodes\u001b[0m \u001b[0;34m=\u001b[0m \u001b[0m_translate_nodes\u001b[0m\u001b[0;34m(\u001b[0m\u001b[0mself\u001b[0m\u001b[0;34m,\u001b[0m \u001b[0;34m*\u001b[0m\u001b[0mtarget_nodes\u001b[0m\u001b[0;34m)\u001b[0m\u001b[0;34m\u001b[0m\u001b[0m\n\u001b[0m\u001b[1;32m    886\u001b[0m \u001b[0;34m\u001b[0m\u001b[0m\n\u001b[1;32m    887\u001b[0m         \u001b[0;31m# If only one node is provided, use self as the second target\u001b[0m\u001b[0;34m\u001b[0m\u001b[0;34m\u001b[0m\u001b[0m\n",
      "\u001b[0;32m/anaconda3/lib/python3.6/site-packages/ete3/coretype/tree.py\u001b[0m in \u001b[0;36m_translate_nodes\u001b[0;34m(root, *nodes)\u001b[0m\n\u001b[1;32m   2466\u001b[0m     \u001b[0mname2node\u001b[0m \u001b[0;34m=\u001b[0m \u001b[0mdict\u001b[0m\u001b[0;34m(\u001b[0m\u001b[0;34m[\u001b[0m \u001b[0;34m[\u001b[0m\u001b[0mn\u001b[0m\u001b[0;34m,\u001b[0m \u001b[0;32mNone\u001b[0m\u001b[0;34m]\u001b[0m \u001b[0;32mfor\u001b[0m \u001b[0mn\u001b[0m \u001b[0;32min\u001b[0m \u001b[0mnodes\u001b[0m \u001b[0;32mif\u001b[0m \u001b[0mtype\u001b[0m\u001b[0;34m(\u001b[0m\u001b[0mn\u001b[0m\u001b[0;34m)\u001b[0m \u001b[0;32mis\u001b[0m \u001b[0mstr\u001b[0m\u001b[0;34m]\u001b[0m\u001b[0;34m)\u001b[0m\u001b[0;34m\u001b[0m\u001b[0m\n\u001b[1;32m   2467\u001b[0m     \u001b[0;32mfor\u001b[0m \u001b[0mn\u001b[0m \u001b[0;32min\u001b[0m \u001b[0mroot\u001b[0m\u001b[0;34m.\u001b[0m\u001b[0mtraverse\u001b[0m\u001b[0;34m(\u001b[0m\u001b[0;34m)\u001b[0m\u001b[0;34m:\u001b[0m\u001b[0;34m\u001b[0m\u001b[0m\n\u001b[0;32m-> 2468\u001b[0;31m         \u001b[0;32mif\u001b[0m \u001b[0mn\u001b[0m\u001b[0;34m.\u001b[0m\u001b[0mname\u001b[0m \u001b[0;32min\u001b[0m \u001b[0mname2node\u001b[0m\u001b[0;34m:\u001b[0m\u001b[0;34m\u001b[0m\u001b[0m\n\u001b[0m\u001b[1;32m   2469\u001b[0m             \u001b[0;32mif\u001b[0m \u001b[0mname2node\u001b[0m\u001b[0;34m[\u001b[0m\u001b[0mn\u001b[0m\u001b[0;34m.\u001b[0m\u001b[0mname\u001b[0m\u001b[0;34m]\u001b[0m \u001b[0;32mis\u001b[0m \u001b[0;32mnot\u001b[0m \u001b[0;32mNone\u001b[0m\u001b[0;34m:\u001b[0m\u001b[0;34m\u001b[0m\u001b[0m\n\u001b[1;32m   2470\u001b[0m                 \u001b[0;32mraise\u001b[0m \u001b[0mTreeError\u001b[0m\u001b[0;34m(\u001b[0m\u001b[0;34m\"Ambiguous node name: \"\u001b[0m\u001b[0;34m+\u001b[0m\u001b[0mstr\u001b[0m\u001b[0;34m(\u001b[0m\u001b[0mn\u001b[0m\u001b[0;34m.\u001b[0m\u001b[0mname\u001b[0m\u001b[0;34m)\u001b[0m\u001b[0;34m)\u001b[0m\u001b[0;34m\u001b[0m\u001b[0m\n",
      "\u001b[0;31mKeyboardInterrupt\u001b[0m: "
     ]
    }
   ],
   "source": [
    "import numpy as np\n",
    "dist_mat = np.zeros(shape=(len(organs),len(organs)))\n",
    "for leaf1 in leaf_names:\n",
    "    for leaf2 in leaf_names: \n",
    "        if leaf1 < leaf2:\n",
    "            common = ete_tree.get_common_ancestor([leaf1,leaf2])\n",
    "            dist1 = ete_tree.get_distance(leaf1, common)\n",
    "            dist2 = ete_tree.get_distance(leaf2, common)\n",
    "            org1 = organs.index(leaf_organ_types[leaf1])\n",
    "            org2 = organs.index(leaf_organ_types[leaf2])\n",
    "            dist_mat[org1,org2] += dist1\n",
    "            dist_mat[org2,org1] += dist2"
   ]
  },
  {
   "cell_type": "code",
   "execution_count": null,
   "metadata": {},
   "outputs": [],
   "source": []
  }
 ],
 "metadata": {
  "kernelspec": {
   "display_name": "Python 3",
   "language": "python",
   "name": "python3"
  },
  "language_info": {
   "codemirror_mode": {
    "name": "ipython",
    "version": 3
   },
   "file_extension": ".py",
   "mimetype": "text/x-python",
   "name": "python",
   "nbconvert_exporter": "python",
   "pygments_lexer": "ipython3",
   "version": "3.6.4"
  }
 },
 "nbformat": 4,
 "nbformat_minor": 2
}
