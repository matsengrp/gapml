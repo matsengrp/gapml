{
 "cells": [
  {
   "cell_type": "markdown",
   "metadata": {},
   "source": [
    "# Phylo experiments\n",
    "- We'll simulate some trees, then use PHYLIP mix to infer the tree.\n",
    "- We can compare an inferred tree to the true from the simulation using the Robinson-Foulds distance.\n",
    "- *A specific question will be how alignment parameters affect tree accuracy.*\n",
    "This follows up on alignment experiments that suggested non-default Needeleman-Wunsch parameters might decrease rates of erroneous event splitting and fusing."
   ]
  },
  {
   "cell_type": "markdown",
   "metadata": {},
   "source": [
    "## import necessary classes"
   ]
  },
  {
   "cell_type": "code",
   "execution_count": null,
   "metadata": {
    "collapsed": false
   },
   "outputs": [],
   "source": [
    "import numpy as np\n",
    "from barcode import Barcode\n",
    "from cell_state import CellTypeTree, CellState\n",
    "from cell_state_simulator import CellTypeSimulator\n",
    "from clt_simulator import CLTSimulator\n",
    "from barcode_simulator import BarcodeSimulator\n",
    "from alignment import AlignerNW\n",
    "from clt_observer import ObservedAlignedSeq, CLTObserver\n",
    "from clt_estimator import CLTParsimonyEstimator\n",
    "from collapsed_tree import CollapsedTree\n",
    "from alignment import AlignerNW\n",
    "from IPython.display import display\n",
    "import pandas as pd\n",
    "%matplotlib inline\n",
    "import matplotlib.pyplot as plt\n",
    "import seaborn as sns\n",
    "from collections import defaultdict, Counter\n",
    "from itertools import product\n",
    "from random import shuffle"
   ]
  },
  {
   "cell_type": "markdown",
   "metadata": {},
   "source": [
    "## define simulation parameters\n"
   ]
  },
  {
   "cell_type": "code",
   "execution_count": null,
   "metadata": {
    "collapsed": false
   },
   "outputs": [],
   "source": [
    "# time to simulate tree for\n",
    "time = 5\n",
    "# poisson rates for DSBs on targets\n",
    "target_lambdas = np.array([1 for _ in range(10)])\n",
    "# poisson rates for NHEJ on targets\n",
    "repair_lambdas = np.array([150 for _ in range(10)]) \n",
    "# probability of imperfect repair\n",
    "indel_probability = .1\n",
    "# left and right average deletion\n",
    "left_deletion_mu = 5\n",
    "right_deletion_mu = 5\n",
    "# average insertion length and dispersion\n",
    "insertion_mu = 1\n",
    "insertion_alpha = 10 # large dispersion for insertions\n",
    "# cell branching process parameters\n",
    "birth_lambda = 2\n",
    "death_lambda = 1\n",
    "# observed base mismatch rate from e.g. sequencing error\n",
    "error_rate = 0.01\n",
    "# fraction of simulated leaves that we sample\n",
    "sampling_rate = 0.1\n",
    "# Needleman-Wunsch alignment\n",
    "# this aligner uses default NW params\n",
    "aligner_default = AlignerNW()\n",
    "# below are params optimal in alignment experiments\n",
    "aligner_new = AlignerNW(mismatch=-3.68, gap_open=-7.36, gap_extend=-0.46)"
   ]
  },
  {
   "cell_type": "markdown",
   "metadata": {},
   "source": [
    "## define a trivial cell-type tree with 1 type (we're not modeling cell types in this analysis)"
   ]
  },
  {
   "cell_type": "code",
   "execution_count": null,
   "metadata": {
    "collapsed": false
   },
   "outputs": [],
   "source": [
    "cell_type_tree = CellTypeTree(cell_type=None, rate=1)"
   ]
  },
  {
   "cell_type": "markdown",
   "metadata": {},
   "source": [
    "## instantiate barcode and tree simulators, leaf observer, and parsimony estimator"
   ]
  },
  {
   "cell_type": "code",
   "execution_count": null,
   "metadata": {
    "collapsed": false
   },
   "outputs": [],
   "source": [
    "bcode_simulator = BarcodeSimulator(target_lambdas=np.array(target_lambdas),\n",
    "                                   repair_rates=np.array(repair_lambdas),\n",
    "                                   indel_probability=indel_probability,\n",
    "                                   left_del_mu=left_deletion_mu,\n",
    "                                   right_del_mu=right_deletion_mu,\n",
    "                                   insertion_mu=insertion_mu,\n",
    "                                   insertion_alpha=insertion_alpha)\n",
    "cell_state_simulator = CellTypeSimulator(cell_type_tree)\n",
    "# cell lineage tree (CLT) simulator combines barcode simulator, cell state simulator, and branching parameters\n",
    "clt_simulator = CLTSimulator(birth_lambda, death_lambda, cell_state_simulator, bcode_simulator)\n",
    "# observer object for getting the leaves of the tree with some error\n",
    "observer_default = CLTObserver(sampling_rate=sampling_rate, error_rate=error_rate, aligner=aligner_default)\n",
    "observer_new = CLTObserver(sampling_rate=sampling_rate, error_rate=error_rate, aligner=aligner_new)\n",
    "# PHYLIP Mix tree estimator\n",
    "clt_estimator = CLTParsimonyEstimator()"
   ]
  },
  {
   "cell_type": "markdown",
   "metadata": {},
   "source": [
    "## simulate a cell lineage tree (clt)"
   ]
  },
  {
   "cell_type": "code",
   "execution_count": null,
   "metadata": {
    "collapsed": false
   },
   "outputs": [],
   "source": [
    "# keep simulating until we get a tree with at least n_leaves leaves, give up if we fail 1000 times in a row\n",
    "n_leaves = 500\n",
    "for trial in range(1, 1001):    \n",
    "    simulated_clt = clt_simulator.simulate(Barcode(),\n",
    "                                           CellState(categorical=cell_type_tree),\n",
    "                                           time)\n",
    "    print('try {}, {} leaves'.format(trial, len(simulated_clt)), end='\\r')\n",
    "    if n_leaves <= len(simulated_clt) <= 2*n_leaves:\n",
    "        break"
   ]
  },
  {
   "cell_type": "markdown",
   "metadata": {},
   "source": [
    "## Sample the simulated tree\n",
    "- we'll create sample data sets using both default and new alignment params\n",
    "- branch lengths are proportional to time in this tree"
   ]
  },
  {
   "cell_type": "code",
   "execution_count": null,
   "metadata": {
    "collapsed": false
   },
   "outputs": [],
   "source": [
    "# this returns the unique sampled sequences, and the tree with unobserved lineages pruned \n",
    "seed = np.random.randint(100)\n",
    "obs_leaves_default, pruned_clt_default = observer_default.observe_leaves(simulated_clt, seed=seed)\n",
    "obs_leaves_new, pruned_clt_new = observer_new.observe_leaves(simulated_clt, seed=seed)\n",
    "for obs_leaves in (obs_leaves_default, obs_leaves_new):\n",
    "    abundances = [leaf.abundance for leaf in obs_leaves]\n",
    "    print('cells sampled: {}'.format(sum(abundances)))\n",
    "    print('unique barcode sequences: {}'.format(len(obs_leaves)))\n",
    "    print('maximum abundance: {}'.format(max(abundances)))\n",
    "    print('abundance distribution:')\n",
    "    sns.distplot(abundances, color='grey', kde=False,\n",
    "                 bins=np.arange(.5, max(abundances) + 1.5),\n",
    "                 hist_kws=dict(edgecolor='k', lw=2))\n",
    "    plt.xlabel('cell abundance')\n",
    "    plt.ylabel('unique barcodes')\n",
    "    sns.despine()\n",
    "    plt.show()\n",
    "    # display(pruned_clt.savefig(\"%%inline\"))"
   ]
  },
  {
   "cell_type": "markdown",
   "metadata": {},
   "source": [
    "## Collapsed trees (deduplicate repeated sister taxa)\n",
    "- branch lengths in collapsed tree correspond to event set difference rather than time\n",
    "- genotype abundance indicated by number and bars on right\n",
    "- if we end up with homoplasy (repeated genotypes that aren't sisters) these will still be repeated in the tree\n",
    "- again we do it twice, one using default alignment params, and again with new params"
   ]
  },
  {
   "cell_type": "code",
   "execution_count": null,
   "metadata": {
    "collapsed": false,
    "scrolled": true
   },
   "outputs": [],
   "source": [
    "collapsed_clt_default = pruned_clt_default.copy() \n",
    "for node in collapsed_clt_default.iter_descendants():\n",
    "    node.dist = 0 if set(node.barcode_events.events) == set(node.up.barcode_events.events) else 1\n",
    "collapsed_clt_default = CollapsedTree.collapse(collapsed_clt_default, deduplicate_sisters=True)\n",
    "\n",
    "collapsed_clt_new = pruned_clt_new.copy() \n",
    "for node in collapsed_clt_new.iter_descendants():\n",
    "    node.dist = 0 if set(node.barcode_events.events) == set(node.up.barcode_events.events) else 1\n",
    "collapsed_clt_new = CollapsedTree.collapse(collapsed_clt_new, deduplicate_sisters=True)\n",
    "\n",
    "# plot the editing profile as in Aaron et al.\n",
    "for collapsed_clt in (collapsed_clt_default, collapsed_clt_new):\n",
    "    collapsed_clt.editing_profile() # add file name argument (e.g. 'profile.pdf') if you want it saved\n",
    "    plt.show()\n",
    "    collapsed_clt.ladderize()\n",
    "    # show the tree with alignment\n",
    "    display(collapsed_clt.savefig(\"%%inline\"))"
   ]
  },
  {
   "cell_type": "markdown",
   "metadata": {},
   "source": [
    "# Now we estimate the tree and compare to the truth\n",
    "\n",
    "## Use PHYLIP mix estimator to get set of maximally parsimonious trees\n",
    "- this could take a while for larger trees\n",
    "- we collapse zero-length branches in the binary trees to generate unique multifurcating trees"
   ]
  },
  {
   "cell_type": "code",
   "execution_count": null,
   "metadata": {
    "collapsed": false,
    "scrolled": false
   },
   "outputs": [],
   "source": [
    "parsimony_clts_default = clt_estimator.estimate(obs_leaves_default, encode_hidden=False)\n",
    "print('inferred tree, default alignment parameters')\n",
    "display(parsimony_clts_default[0].savefig(\"%%inline\"))\n",
    "parsimony_clts_new = clt_estimator.estimate(obs_leaves_new, encode_hidden=False)\n",
    "print('inferred tree, new alignment parameters')\n",
    "display(parsimony_clts_new[0].savefig(\"%%inline\"))"
   ]
  },
  {
   "cell_type": "markdown",
   "metadata": {},
   "source": [
    "## define a custom RF distance function"
   ]
  },
  {
   "cell_type": "code",
   "execution_count": null,
   "metadata": {
    "collapsed": false
   },
   "outputs": [],
   "source": [
    "def my_rf(tree1s, tree2, truncate=None):\n",
    "    \"\"\"\n",
    "    custom Robinson-Foulds tree distance that aggregates over resolutions of repeated genotypes\n",
    "    tree1s list of trees with no repeats\n",
    "    tree2 may have repeats\n",
    "    returns an array of possible RF values (rows) for each tree in tree1s (columns)\n",
    "    \"\"\"\n",
    "#     assert(set(leaf.barcode_events for leaf in tree1) == set(leaf.barcode_events for leaf in tree2))\n",
    "    repeats = defaultdict(list)\n",
    "    for leaf in tree2:\n",
    "        repeats[leaf.barcode_events].append(leaf.name)\n",
    "    choices = list(product(*list(repeats.values())))\n",
    "    if truncate is not None:\n",
    "        choices = choices[:truncate]\n",
    "    n_resolutions = len(choices)\n",
    "    n_tree1s = len(tree1s)\n",
    "    RFs = np.zeros((n_resolutions, n_tree1s))\n",
    "    n_elements = n_resolutions * n_tree1s\n",
    "    shuffle(choices)\n",
    "    for i, choice in enumerate(choices):        \n",
    "        choice = set(choice)\n",
    "        tree2_copy = tree2.copy()\n",
    "        for leaf in tree2_copy:\n",
    "            if leaf.name not in choice:\n",
    "                leaf.delete()\n",
    "        for j, tree1 in enumerate(tree1s):\n",
    "            rf = tree1.robinson_foulds(tree2_copy,\n",
    "                               unrooted_trees=True,\n",
    "                               attr_t1='barcode_events',\n",
    "                               attr_t2='barcode_events')             \n",
    "#             if not len(rf[2]) == len(tree1) == len(tree2_copy):\n",
    "#                 raise ValueError(len(rf[2]), len(tree1), len(tree2_copy))\n",
    "            RFs[i, j] = rf[0]\n",
    "#             print('aggregating over duplication resolutions: {:.2%}\\r'.format((i * n_tree1s + j + 1)/ n_elements),\n",
    "#                   end='',\n",
    "#                   flush=True)\n",
    "#     print('')\n",
    "    return RFs"
   ]
  },
  {
   "cell_type": "markdown",
   "metadata": {},
   "source": [
    "## distance between true tree and each of the parsimony trees"
   ]
  },
  {
   "cell_type": "code",
   "execution_count": null,
   "metadata": {
    "collapsed": false
   },
   "outputs": [],
   "source": [
    "truncate = None\n",
    "print('RF using default alignment parameters:', np.max(my_rf([parsimony_clts_default[0]], collapsed_clt_default, truncate), 0)[0])\n",
    "print('    RF using new alignment parameters:', np.max(my_rf([parsimony_clts_new[0]], collapsed_clt_new, truncate), 0)[0])"
   ]
  },
  {
   "cell_type": "markdown",
   "metadata": {},
   "source": [
    "# Now a bigger experiment repeating this many times and aggregating results"
   ]
  },
  {
   "cell_type": "code",
   "execution_count": null,
   "metadata": {
    "collapsed": false
   },
   "outputs": [],
   "source": [
    "    agg_data = []\n",
    "    n_experiments = 100\n",
    "    for exp_i in range(n_experiments):\n",
    "        # simulate a cell lineage tree (clt)\n",
    "        # keep simulating until we get a tree with at least n_leaves leaves, give up if we fail 1000 times in a row\n",
    "        n_leaves = 500\n",
    "        for trial in range(1, 1001):\n",
    "            assert trial <= 1000\n",
    "            simulated_clt = clt_simulator.simulate(Barcode(),\n",
    "                                                   CellState(categorical=cell_type_tree),\n",
    "                                                   time)\n",
    "            print('simulation {}, try {}, {} leaves   '.format(exp_i + 1, trial, len(simulated_clt)),\n",
    "                   end='\\r', flush=True)\n",
    "            if n_leaves <= len(simulated_clt) <= 2*n_leaves:\n",
    "                break\n",
    "        print()\n",
    "\n",
    "        # Sample the simulated tree\n",
    "        # branch lengths are proportional to time in this tree\n",
    "        # this returns the unique sampled sequences, and the tree with unobserved lineages pruned\n",
    "        for trial in range(1, 1001): \n",
    "            assert trial <= 1000\n",
    "            seed = np.random.randint(100)\n",
    "            obs_leaves_default, pruned_clt_default = observer_default.observe_leaves(simulated_clt, seed=seed)\n",
    "            obs_leaves_new, pruned_clt_new = observer_new.observe_leaves(simulated_clt, seed=seed)\n",
    "            if len(obs_leaves_default) >= 3 and len(obs_leaves_new) >= 3:\n",
    "                break\n",
    "\n",
    "        # Collapsed tree (deduplicate repeated sister taxa)\n",
    "        # - branch lengths in collapsed tree correspond to event set difference rather than time\n",
    "        # - genotype abundance indicated by number and bars on right\n",
    "        # - if we end up with homoplasy (repeated genotypes that aren't sisters) these will still be repeated in the tree\n",
    "\n",
    "        collapsed_clt_default = pruned_clt_default.copy()\n",
    "        for node in collapsed_clt_default.iter_descendants():\n",
    "            node.dist = 0 if set(node.barcode_events.events) == set(node.up.barcode_events.events) else 1\n",
    "        collapsed_clt_default = CollapsedTree.collapse(collapsed_clt_default, deduplicate_sisters=True)\n",
    "\n",
    "        collapsed_clt_new = pruned_clt_new.copy()\n",
    "        for node in collapsed_clt_new.iter_descendants():\n",
    "            node.dist = 0 if set(node.barcode_events.events) == set(node.up.barcode_events.events) else 1\n",
    "        collapsed_clt_new = CollapsedTree.collapse(collapsed_clt_new, deduplicate_sisters=True)\n",
    "\n",
    "        # Now we estimate the tree and compare to the truth\n",
    "        #\n",
    "        # Use PHYLIP mix estimator to get set of maximally parsimonious trees\n",
    "        # - this could take a while\n",
    "        # - we collapse zero-length branches in the binary trees to generate unique multifurcating trees\n",
    "\n",
    "        parsimony_clts_default = clt_estimator.estimate(obs_leaves_default, encode_hidden=False)\n",
    "        parsimony_clts_new = clt_estimator.estimate(obs_leaves_new, encode_hidden=False)\n",
    "\n",
    "        # just use first\n",
    "        parsimony_clts_default = [parsimony_clts_default[0]]\n",
    "        parsimony_clts_new = [parsimony_clts_new[0]]\n",
    "\n",
    "        # Distribution of distance between true tree and each of the parsimony trees\n",
    "        # we use the mean of the results of different repeat resolutions from the function above\n",
    "\n",
    "        truncate = 20\n",
    "        rf_default = np.max(my_rf(parsimony_clts_default, collapsed_clt_default, truncate), 0)[0]\n",
    "        rf_new     = np.max(my_rf(parsimony_clts_new,     collapsed_clt_new,     truncate), 0)[0]\n",
    "\n",
    "        agg_data.append([exp_i, rf_default, rf_new])\n",
    "\n",
    "    df = pd.DataFrame(agg_data,\n",
    "                      columns=('simulation run', 'RF distance to true tree\\ndefault alignment parameters', 'RF distance to true tree\\nnew alignment parameters'))\n",
    "    lim = max(df['RF distance to true tree\\ndefault alignment parameters'].max(),\n",
    "              df['RF distance to true tree\\nnew alignment parameters'].max()) + 1\n",
    "    g = sns.jointplot(x='RF distance to true tree\\nnew alignment parameters',\n",
    "                      y='RF distance to true tree\\ndefault alignment parameters',\n",
    "                      data=df,\n",
    "                      color='black',\n",
    "                      stat_func=None,\n",
    "                      joint_kws=dict(alpha=.3, clip_on=False),\n",
    "                      marginal_kws=dict(bins=np.arange(.5, lim + 1.5), hist_kws=dict(edgecolor='k')),\n",
    "                      xlim=[0, lim],\n",
    "                      ylim=[0, lim],\n",
    "                      size=4,\n",
    "                      space=0)\n",
    "    g.ax_joint.plot([0, lim], [0, lim], c='grey', ls='--', zorder=0)\n",
    "    plt.tight_layout()\n",
    "    plt.savefig('phylo_experiments.pdf')\n",
    "    plt.show()\n"
   ]
  },
  {
   "cell_type": "markdown",
   "metadata": {},
   "source": [
    "# Questions for Aaron\n",
    "- How are you collapsing zero-length branches in trees from mix, given that there are \"?\" states in the ancestors and some edges are \"maybe\" for having steps?\n",
    "- Are you randomly resolving the unknown states to determine definite zero-length branches?\n",
    "\n",
    "# Next things to try\n",
    "- add an aligner with affine gap penalty, like the more current GESTALT\n",
    "- try a new liner with a gap penalty function that is cut site aware"
   ]
  },
  {
   "cell_type": "code",
   "execution_count": null,
   "metadata": {
    "collapsed": true
   },
   "outputs": [],
   "source": []
  }
 ],
 "metadata": {
  "kernelspec": {
   "display_name": "Python 3",
   "language": "python",
   "name": "python3"
  },
  "language_info": {
   "codemirror_mode": {
    "name": "ipython",
    "version": 3
   },
   "file_extension": ".py",
   "mimetype": "text/x-python",
   "name": "python",
   "nbconvert_exporter": "python",
   "pygments_lexer": "ipython3",
   "version": "3.4.5"
  }
 },
 "nbformat": 4,
 "nbformat_minor": 2
}
