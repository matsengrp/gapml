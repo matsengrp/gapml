{
 "cells": [
  {
   "cell_type": "markdown",
   "metadata": {},
   "source": [
    "# Phylo experiments"
   ]
  },
  {
   "cell_type": "markdown",
   "metadata": {},
   "source": [
    "## import necessary classes"
   ]
  },
  {
   "cell_type": "code",
   "execution_count": null,
   "metadata": {
    "collapsed": false
   },
   "outputs": [],
   "source": [
    "import numpy as np\n",
    "from barcode import Barcode\n",
    "from cell_state import CellTypeTree, CellState\n",
    "from cell_state_simulator import CellTypeSimulator\n",
    "from clt_simulator import CLTSimulator\n",
    "from barcode_simulator import BarcodeSimulator\n",
    "from alignment import AlignerNW\n",
    "from clt_observer import ObservedAlignedSeq, CLTObserver\n",
    "from clt_estimator import CLTParsimonyEstimator\n",
    "from collapsed_tree import CollapsedTree\n",
    "from alignment import AlignerNW\n",
    "from IPython.display import display\n",
    "import pandas as pd\n",
    "%matplotlib inline\n",
    "import matplotlib.pyplot as plt\n",
    "import seaborn as sns\n",
    "from collections import defaultdict, Counter\n",
    "from itertools import product\n",
    "from random import shuffle"
   ]
  },
  {
   "cell_type": "markdown",
   "metadata": {},
   "source": [
    "## define simulation parameters\n"
   ]
  },
  {
   "cell_type": "code",
   "execution_count": null,
   "metadata": {
    "collapsed": false
   },
   "outputs": [],
   "source": [
    "# time to simulate tree for\n",
    "time = 4\n",
    "# poisson rates for DSBs on targets\n",
    "target_lambdas = np.array([1 for _ in range(10)])\n",
    "# poisson rates for NHEJ on targets\n",
    "repair_lambdas = np.array([150 for _ in range(10)]) \n",
    "# probability of imperfect repair\n",
    "indel_probability = .1\n",
    "# left and right average deletion\n",
    "left_deletion_mu = 5\n",
    "right_deletion_mu = 5\n",
    "# average insertion length and dispersion\n",
    "insertion_mu = 1\n",
    "insertion_alpha = 10 # large dispersion for insertions\n",
    "# cell branching process parameters\n",
    "birth_lambda = 2\n",
    "death_lambda = 1\n",
    "# observed base mismatch rate from e.g. sequencing error\n",
    "error_rate = 0.005\n",
    "# fraction of simulated leaves that we sample\n",
    "sampling_rate = 0.5\n",
    "# Needleman-Wunsch alignment\n",
    "aligner = AlignerNW()"
   ]
  },
  {
   "cell_type": "markdown",
   "metadata": {},
   "source": [
    "## define a trivial cell-type tree with 1 type (we're not modeling cell types in this analysis)"
   ]
  },
  {
   "cell_type": "code",
   "execution_count": null,
   "metadata": {
    "collapsed": false
   },
   "outputs": [],
   "source": [
    "cell_type_tree = CellTypeTree(cell_type=None, rate=1)"
   ]
  },
  {
   "cell_type": "markdown",
   "metadata": {},
   "source": [
    "## instantiate barcode and tree simulators, leaf observer, and parsimony estimator"
   ]
  },
  {
   "cell_type": "code",
   "execution_count": null,
   "metadata": {
    "collapsed": false
   },
   "outputs": [],
   "source": [
    "bcode_simulator = BarcodeSimulator(target_lambdas=np.array(target_lambdas),\n",
    "                                   repair_rates=np.array(repair_lambdas),\n",
    "                                   indel_probability=indel_probability,\n",
    "                                   left_del_mu=left_deletion_mu,\n",
    "                                   right_del_mu=right_deletion_mu,\n",
    "                                   insertion_mu=insertion_mu,\n",
    "                                   insertion_alpha=insertion_alpha)\n",
    "cell_state_simulator = CellTypeSimulator(cell_type_tree)\n",
    "# cell lineage tree (CLT) simulator combines barcode simulator, cell state simulator, and branching parameters\n",
    "clt_simulator = CLTSimulator(birth_lambda, death_lambda, cell_state_simulator, bcode_simulator)\n",
    "# observer object for getting the leaves of the tree with some error\n",
    "observer = CLTObserver(sampling_rate=sampling_rate, error_rate=error_rate, aligner=aligner)\n",
    "# PHYLIP Mix tree estimator\n",
    "clt_estimator = CLTParsimonyEstimator()"
   ]
  },
  {
   "cell_type": "markdown",
   "metadata": {},
   "source": [
    "## simulate a cell lineage tree (clt)"
   ]
  },
  {
   "cell_type": "code",
   "execution_count": null,
   "metadata": {
    "collapsed": false
   },
   "outputs": [],
   "source": [
    "# keep simulating until we get a tree with at least n_leaves leaves, give up if we fail 1000 times in a row\n",
    "n_leaves = 500\n",
    "for trial in range(1, 1001):    \n",
    "    simulated_clt = clt_simulator.simulate(Barcode(),\n",
    "                                           CellState(categorical=cell_type_tree),\n",
    "                                           time)\n",
    "    print('try {}, {} leaves'.format(trial, len(simulated_clt)), end='\\r')\n",
    "    if len(simulated_clt) >= n_leaves:\n",
    "        break"
   ]
  },
  {
   "cell_type": "markdown",
   "metadata": {},
   "source": [
    "## Sample the simulated tree"
   ]
  },
  {
   "cell_type": "code",
   "execution_count": null,
   "metadata": {
    "collapsed": false
   },
   "outputs": [],
   "source": [
    "# this returns the unique sampled sequences, and the tree with unobserved lineages pruned \n",
    "obs_leaves, pruned_clt = observer.observe_leaves(simulated_clt)\n",
    "abundances = [leaf.abundance for leaf in obs_leaves]\n",
    "print('cells sampled: {}'.format(sum(abundances)))\n",
    "print('unique barcode sequences: {}'.format(len(obs_leaves)))\n",
    "print('maximum abundance: {}'.format(max(abundances)))\n",
    "print('abundance distribution:')\n",
    "sns.distplot(abundances, color='grey', kde=False,\n",
    "             bins=np.arange(.5, max(abundances) + .5),\n",
    "             hist_kws=dict(edgecolor='k', lw=2))\n",
    "plt.xlabel('cell abundance')\n",
    "plt.ylabel('unique barcodes')\n",
    "sns.despine()\n",
    "plt.show()"
   ]
  },
  {
   "cell_type": "markdown",
   "metadata": {},
   "source": [
    "## Collapsed tree (deduplicate repeated taxa)\n",
    "- branch lengths in collapsed tree correspond to event set difference rather than time\n",
    "- genotype abundance indicated by number and bars on right\n",
    "- if we end up with homoplasy (repeated genotypes that aren't sisters) these will still be repeated in the tree"
   ]
  },
  {
   "cell_type": "code",
   "execution_count": null,
   "metadata": {
    "collapsed": false,
    "scrolled": true
   },
   "outputs": [],
   "source": [
    "collapsed_clt = pruned_clt.copy() \n",
    "for node in collapsed_clt.iter_descendants():\n",
    "    node.dist = len(set(node.barcode_events.events) ^ set(node.up.barcode_events.events))\n",
    "collapsed_clt = CollapsedTree.collapse(collapsed_clt, preserve_leaves=True)\n",
    "# plot the editing profile as in Aaron et al.\n",
    "collapsed_clt.editing_profile() # add file name argument (e.g. 'profile.pdf') if you want it saved\n",
    "plt.show()\n",
    "collapsed_clt.ladderize()\n",
    "# show the tree with alignment\n",
    "display(collapsed_clt.savefig(\"%%inline\"))"
   ]
  },
  {
   "cell_type": "markdown",
   "metadata": {},
   "source": [
    "# Now we estimate the tree and compare to the truth\n",
    "## first define custom tree distance function that can handle repeated genotypes in the true tree\n",
    "the idea will be to aggregate (e.g. average) over all possible choices for positions of the repeated genotypes"
   ]
  },
  {
   "cell_type": "code",
   "execution_count": null,
   "metadata": {
    "collapsed": false
   },
   "outputs": [],
   "source": [
    "def my_rf(tree1, tree2):\n",
    "    \"\"\"\n",
    "    custom Robinson-Foulds tree distance that aggregates over resolutions of repeated genotypes\n",
    "    tree1 has no repeats\n",
    "    tree2 may have repeats\n",
    "    returns list of possible RF values\n",
    "    \"\"\"\n",
    "#     assert(set(leaf.barcode_events for leaf in tree1) == set(leaf.barcode_events for leaf in tree2))\n",
    "    repeats = defaultdict(list)\n",
    "    for leaf in tree2:\n",
    "        repeats[leaf.barcode_events].append(leaf.name)\n",
    "    rfs = []\n",
    "    choices = list(product(*list(repeats.values())))\n",
    "    shuffle(choices)\n",
    "    for ct, choice in enumerate(choices,1):        \n",
    "        choice = set(choice)\n",
    "        tree2_copy = tree2.copy()\n",
    "        for leaf in tree2_copy:\n",
    "            if leaf.name not in choice:\n",
    "                leaf.delete()\n",
    "        rf = tree1.robinson_foulds(tree2_copy,\n",
    "                           unrooted_trees=True,\n",
    "                           attr_t1='barcode_events',\n",
    "                           attr_t2='barcode_events')\n",
    "        assert(len(rf[2]) > 0)\n",
    "        rfs.append(rf[0])\n",
    "        \n",
    "        # stopping after 20\n",
    "        if ct == 20:\n",
    "            break\n",
    "    return rfs"
   ]
  },
  {
   "cell_type": "markdown",
   "metadata": {},
   "source": [
    "## Use PHYLIP mix estimator to get set of maximally parsimonious trees\n",
    "- this could take a while\n",
    "- we collapse zero-length branches in the binary trees to generate unique multifurcating trees\n",
    "- we run twice, encoding hidden states as absent (0), or as unknown (?)\n",
    "- **hypothesis:** the latter will result in more accurate reconstructions"
   ]
  },
  {
   "cell_type": "code",
   "execution_count": null,
   "metadata": {
    "collapsed": false,
    "scrolled": false
   },
   "outputs": [],
   "source": [
    "parsimony_clts = clt_estimator.estimate(obs_leaves, encode_hidden=False)\n",
    "parsimony_clts_hidden = clt_estimator.estimate(obs_leaves, encode_hidden=True)"
   ]
  },
  {
   "cell_type": "markdown",
   "metadata": {},
   "source": [
    "## Distribution of distance between true tree and each of the parsimony trees\n",
    "### we use the mean of the results of different repeat resolutions from the function above"
   ]
  },
  {
   "cell_type": "code",
   "execution_count": null,
   "metadata": {
    "collapsed": false,
    "scrolled": true
   },
   "outputs": [],
   "source": [
    "RF = []\n",
    "for parsimony_clt in parsimony_clts:\n",
    "    rf = np.mean(my_rf(parsimony_clt, collapsed_clt))\n",
    "    RF.append(rf)\n",
    "RF_hidden = []\n",
    "for parsimony_clt in parsimony_clts_hidden:\n",
    "    rf = np.mean(my_rf(parsimony_clt, collapsed_clt))\n",
    "    RF_hidden.append(rf)\n",
    "#     parsimony_clt.ladderize()\n",
    "#     display(parsimony_clt.savefig(\"%%inline\"))\n",
    "plt.hist([RF, RF_hidden],\n",
    "         bins=np.arange(.5, np.ceil(max(RF + RF_hidden)) + 1.5),\n",
    "         color=('green', 'red'),\n",
    "         edgecolor='k',\n",
    "         label=('hidden events encoded as 0', 'hidden events encoded as ?'),\n",
    "         stacked=True)\n",
    "plt.legend()\n",
    "plt.xlim([0, None])\n",
    "plt.xlabel('mean Robinson-Foulds distance to true tree')\n",
    "plt.ylabel('number of parsimony trees')\n",
    "plt.show()"
   ]
  }
 ],
 "metadata": {
  "kernelspec": {
   "display_name": "Python 3",
   "language": "python",
   "name": "python3"
  },
  "language_info": {
   "codemirror_mode": {
    "name": "ipython",
    "version": 3
   },
   "file_extension": ".py",
   "mimetype": "text/x-python",
   "name": "python",
   "nbconvert_exporter": "python",
   "pygments_lexer": "ipython3",
   "version": "3.4.5"
  }
 },
 "nbformat": 4,
 "nbformat_minor": 2
}
