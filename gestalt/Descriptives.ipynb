{
 "cells": [
  {
   "cell_type": "code",
   "execution_count": null,
   "metadata": {},
   "outputs": [],
   "source": [
    "%matplotlib inline  \n",
    "\n",
    "from collections import Counter\n",
    "import numpy as np\n",
    "from matplotlib import pyplot as plt\n",
    "import pandas as pd\n",
    "import seaborn as sns\n",
    "\n",
    "from read_seq_data import parse_reads_file_newformat, parse_reads_file_format7B\n",
    "\n",
    "from constants import BARCODE_V7, NUM_BARCODE_V7_TARGETS\n",
    "\n",
    "\"\"\"\n",
    "A descriptive analysis of fish data\n",
    "\"\"\""
   ]
  },
  {
   "cell_type": "code",
   "execution_count": null,
   "metadata": {},
   "outputs": [],
   "source": [
    "START_BASE = 120\n",
    "BARCODE_SPACER_LEN = 27\n",
    "TARGET_LEN = 23"
   ]
  },
  {
   "cell_type": "code",
   "execution_count": null,
   "metadata": {},
   "outputs": [],
   "source": [
    "# FISH 1\n",
    "cell_reads = parse_reads_file_format7B(\"../../data/fish_7B_UMI_collapsed_reads.txt\")\n",
    "\n",
    "# FISH 2\n",
    "# cell_reads = parse_reads_file_newformat(\"../../data/fish2.txt\")"
   ]
  },
  {
   "cell_type": "code",
   "execution_count": null,
   "metadata": {},
   "outputs": [],
   "source": [
    "\"\"\"\n",
    "distributions of the number of (visible) events in each cell type\n",
    "\"\"\"\n",
    "df = pd.DataFrame([(cell_reads.organ_dict[x.organ.cell_type], len(x.events)) for x in cell_reads.all_barcodes],\n",
    "                  columns=('cell type', 'number of events'))\n",
    "plt.figure(figsize=(20, 3))\n",
    "sns.boxplot(x='cell type', y='number of events', data=df, color='lightgrey')"
   ]
  },
  {
   "cell_type": "code",
   "execution_count": null,
   "metadata": {},
   "outputs": [],
   "source": [
    "\"\"\"\n",
    "distributions of the number of exhausted targets in each cell type\n",
    "\"\"\"\n",
    "df = pd.DataFrame([(cell_reads.organ_dict[x.organ.cell_type], len(x.barcode.get_used_targets())) for x in cell_reads.all_barcodes],\n",
    "                  columns=('cell type', 'number of exhausted targets'))\n",
    "plt.figure(figsize=(20, 3))\n",
    "sns.violinplot(x='cell type', y='number of exhausted targets', data=df, color='lightgrey')"
   ]
  },
  {
   "cell_type": "code",
   "execution_count": null,
   "metadata": {},
   "outputs": [],
   "source": [
    "\"\"\"\n",
    "Really basic data characteristics\n",
    "\"\"\"\n",
    "num_cells = len(cell_reads.all_barcodes)\n",
    "print(\"# of cells:\", num_cells)\n",
    "print(\"# of unique barcodes (alleles):\", len(cell_reads.uniq_barcodes))"
   ]
  },
  {
   "cell_type": "code",
   "execution_count": null,
   "metadata": {},
   "outputs": [],
   "source": [
    "\"\"\"\n",
    "Organ data distribution\n",
    "\"\"\"\n",
    "organ_barcode_dict = dict()\n",
    "for b in cell_reads.all_barcodes:\n",
    "    organ= cell_reads.organ_dict[b.organ.cell_type]\n",
    "    if organ not in organ_barcode_dict:\n",
    "        organ_barcode_dict[organ] = []\n",
    "    organ_barcode_dict[organ].append(b)\n",
    "    \n",
    "for organ, barcodes in organ_barcode_dict.items():\n",
    "    bcode_strs = [\".\".join([str(evt) for evt in b.events]) for b in barcodes]\n",
    "    uniq_bcodes = set(bcode_strs)\n",
    "    num_organ_cells = len(barcodes)\n",
    "    print(\"# of %s cells: %d (%f%%)\" % (organ, num_organ_cells, (100 * num_organ_cells)/num_cells))\n",
    "    print(\"  # of unique barcodes:\", len(uniq_bcodes))\n",
    "        "
   ]
  },
  {
   "cell_type": "code",
   "execution_count": null,
   "metadata": {},
   "outputs": [],
   "source": [
    "# Process unique insertions\n",
    "uniq_inserts = set()\n",
    "uniq_insert_strs = set()\n",
    "for b in cell_reads.uniq_barcodes:\n",
    "    for evt in b.events:\n",
    "        if evt.del_len == 0:\n",
    "            if str(evt) in uniq_insert_strs:\n",
    "                continue\n",
    "            else:\n",
    "                uniq_insert_strs.add(str(evt))\n",
    "                uniq_inserts.add(evt)"
   ]
  },
  {
   "cell_type": "code",
   "execution_count": null,
   "metadata": {},
   "outputs": [],
   "source": [
    "# Process insertions with target idx\n",
    "all_insert_target_pos = []\n",
    "for b in cell_reads.uniq_barcodes:\n",
    "    for evt in b.events:\n",
    "        if evt.del_len == 0:\n",
    "            all_insert_target_pos.append((evt.min_target, evt))"
   ]
  },
  {
   "cell_type": "code",
   "execution_count": null,
   "metadata": {},
   "outputs": [],
   "source": [
    "\"\"\"\n",
    "Interpretation: There aren't that many insertion locations possible\n",
    "\"\"\"\n",
    "num_insert_evt = np.sum([evt.del_len == 0 for evt in cell_reads.uniq_events])\n",
    "print(\"# unique insertion events:\", num_insert_evt)\n",
    "insert_pos = [ins.start_pos for ins in uniq_inserts]\n",
    "num_uniq_insert_start = np.unique(insert_pos).size\n",
    "print(\"# unique insertion positions:\", num_uniq_insert_start)"
   ]
  },
  {
   "cell_type": "code",
   "execution_count": null,
   "metadata": {},
   "outputs": [],
   "source": [
    "\"\"\"\n",
    "A summary table of the length of unique insertion events\n",
    "\n",
    "Interpretation: There is actually a wide range of insertion lengths (up to 48 bp!).\n",
    "Most insertions are short. However some insertion lengths seem to be more favorable.\n",
    "Even though we only look at unique insertions, there are a large number of\n",
    "unique insertions that are all length 12, 15, 20, and 23.\n",
    "\"\"\"\n",
    "insert_len = [ins.insert_len for ins in uniq_inserts]\n",
    "Counter(insert_len)"
   ]
  },
  {
   "cell_type": "code",
   "execution_count": null,
   "metadata": {},
   "outputs": [],
   "source": [
    "\"\"\"\n",
    "Where are things inserted for each target, what is the usual position, what is the usual length?\n",
    "The numbers below are median (min, max)\n",
    "\n",
    "Interpretation: Looks like insertion location is not always at the cut site. It could be a little left\n",
    "of the cut site due to simultaneous deletions maybe?\n",
    "\"\"\"\n",
    "insert_target_summary = [\n",
    "    {'count': 0, 'locations': [], 'lengths': [], 'uniq_strs': set()} for i in range(NUM_BARCODE_V7_TARGETS)\n",
    "]\n",
    "for target_i, evt in all_insert_target_pos:\n",
    "    if str(evt) in insert_target_summary[target_i]['uniq_strs']:\n",
    "        continue\n",
    "    else:\n",
    "        insert_target_summary[target_i]['uniq_strs'].add(str(evt))\n",
    "        insert_target_summary[target_i][\"count\"] += 1\n",
    "        insert_target_summary[target_i][\"locations\"].append(evt.start_pos)\n",
    "        insert_target_summary[target_i][\"lengths\"].append(evt.insert_len)\n",
    "\n",
    "for target_i, target_dict in enumerate(insert_target_summary):\n",
    "    print(\"Target\", target_i)\n",
    "    print(\"  Count:\", target_dict['count'])\n",
    "    locs = target_dict['locations']\n",
    "    print(\"  Location:\", np.median(locs), \"(\", np.min(locs), \",\", np.max(locs), \")\")\n",
    "    lens = target_dict['lengths']\n",
    "    print(\"  Lengths:\", np.median(lens), \"(\", np.min(lens), \",\", np.max(lens), \")\")"
   ]
  },
  {
   "cell_type": "code",
   "execution_count": null,
   "metadata": {},
   "outputs": [],
   "source": [
    "\"\"\"\n",
    "Plot: histogram of insertion positions\n",
    "\n",
    "Interpretation: Most insertion positions are centered around the cutting locations.\n",
    "The cut locations are almost equally spaced apart, with some jitter. (This is just a more visual\n",
    "plot of the list above.)\n",
    "\"\"\"\n",
    "plt.hist(insert_pos, bins=50, log=True)"
   ]
  },
  {
   "cell_type": "code",
   "execution_count": null,
   "metadata": {},
   "outputs": [],
   "source": [
    "\"\"\"\n",
    "Understanding simultaneous deletions and insertions (those that occur in the same position)\n",
    "\n",
    "Interpretation: There are 10/59 insertion events that overlap with a deletion event on the same barcode.\n",
    "My guess is that the two happened at the same time.\n",
    "However I'm a bit surprised that we don't have simultaneous deletion and insertion more often.\n",
    "\"\"\"\n",
    "simult_del_ins = set()\n",
    "for b in cell_reads.uniq_barcodes:\n",
    "    target_disturbed = [[] for i in range(10)]\n",
    "    for evt in b.events:\n",
    "        for i in range(evt.min_target, evt.max_target + 1):\n",
    "            target_disturbed[i].append(evt)\n",
    "    for targ in target_disturbed:\n",
    "        if len(targ) > 1:\n",
    "            simult_del_ins.add(tuple(targ))\n",
    "print(\"# simultaneous delete and insert:\", len(simult_del_ins))"
   ]
  },
  {
   "cell_type": "code",
   "execution_count": null,
   "metadata": {},
   "outputs": [],
   "source": [
    "# Process unique deletions\n",
    "uniq_deletes = set()\n",
    "for b in cell_reads.uniq_barcodes:\n",
    "    for evt in b.events:\n",
    "        if evt.del_len > 0:\n",
    "            if evt in uniq_deletes:\n",
    "                continue\n",
    "            else:\n",
    "                uniq_deletes.add(evt)\n",
    "\n",
    "# Process deletions with target idx\n",
    "all_delete_target_pos = []\n",
    "for b in cell_reads.uniq_barcodes:\n",
    "    for evt in b.events:\n",
    "        if evt.del_len > 0:\n",
    "            all_delete_target_pos.append((evt.min_target, evt))"
   ]
  },
  {
   "cell_type": "code",
   "execution_count": null,
   "metadata": {},
   "outputs": [],
   "source": [
    "\"\"\"\n",
    "Counting deletion events and positions\n",
    "\n",
    "Interpretation: There are quite a lot of deletion positions possible. The total barcode is only 270 long.\n",
    "We are starting deletes from almost every position.\n",
    "\"\"\"\n",
    "num_delete_evt = np.sum([evt.del_len == 0 for evt in cell_reads.uniq_events])\n",
    "print(\"# unique delete events:\", num_delete_evt)\n",
    "delete_pos = [deletion.start_pos for deletion in uniq_deletes]\n",
    "num_uniq_delete_start = np.unique(delete_pos).size\n",
    "print(\"# unique deletion start positions:\", num_uniq_delete_start)\n",
    "delete_end_pos = [deletion.start_pos + deletion.del_len - 1 for deletion in uniq_deletes]\n",
    "num_uniq_delete_end = np.unique(delete_end_pos).size\n",
    "print(\"# unique deletion end positions:\", num_uniq_delete_end)"
   ]
  },
  {
   "cell_type": "code",
   "execution_count": null,
   "metadata": {},
   "outputs": [],
   "source": [
    "\"\"\"\n",
    "Histogram of the lengths of deletions\n",
    "\n",
    "Interpretation: Wide range of deletion lengths possible, though more often we delete short lengths.\n",
    "We even have deletions of 222 bp.\n",
    "\"\"\"\n",
    "# A summary table of the length of unique deletion events\n",
    "del_len = [ins.del_len for ins in uniq_deletes]\n",
    "plt.hist(del_len, bins=20)"
   ]
  },
  {
   "cell_type": "code",
   "execution_count": null,
   "metadata": {},
   "outputs": [],
   "source": [
    "\"\"\"\n",
    "Plot: histogram of deletion start locations\n",
    "\n",
    "Picture: deletion start locations for each unique deletion event.\n",
    "You can spot 10 peaks, but it's a bit difficult. Deleions can start anywhere!\n",
    "\"\"\"\n",
    "plt.hist(delete_pos, bins=100)"
   ]
  },
  {
   "cell_type": "code",
   "execution_count": null,
   "metadata": {},
   "outputs": [],
   "source": [
    "\"\"\"\n",
    "Plot: histogram of deletion end locations\n",
    "\n",
    "You can spot 10 peaks, but it's a bit difficult. Deletions can end anywhere!\n",
    "\"\"\"\n",
    "plt.hist(delete_end_pos, bins=100)"
   ]
  },
  {
   "cell_type": "code",
   "execution_count": null,
   "metadata": {},
   "outputs": [],
   "source": [
    "\"\"\"\n",
    "Where are things deleted for each target, what is the usual position, what is the usual length?\n",
    "The numbers below are median (min, max)\n",
    "\n",
    "Interpretation: The median position for the deletion for each target is pretty evenly spaced.\n",
    "Median deletion length is actually quite high!\n",
    "\"\"\"\n",
    "del_target_summary = [\n",
    "    {'count': 0, 'locations': [], 'lengths': [], 'uniq_evts': set()}\n",
    "    for i in range(NUM_BARCODE_V7_TARGETS)\n",
    "]\n",
    "for target_i, evt in all_delete_target_pos:\n",
    "    is_target_i_start = evt.start_pos >= START_BASE + BARCODE_SPACER_LEN * target_i\n",
    "    is_target_i_end = evt.start_pos <= START_BASE + BARCODE_SPACER_LEN * (target_i + 1)\n",
    "    if is_target_i_start and is_target_i_end:\n",
    "        if evt in del_target_summary[target_i]['uniq_evts']:\n",
    "            continue\n",
    "        else:\n",
    "            del_target_summary[target_i]['uniq_evts'].add(evt)\n",
    "            del_target_summary[target_i][\"count\"] += 1\n",
    "            del_target_summary[target_i][\"locations\"].append(evt.start_pos)\n",
    "            del_target_summary[target_i][\"lengths\"].append(evt.del_len)\n",
    "\n",
    "for target_i, target_dict in enumerate(del_target_summary):\n",
    "    print(\"Target\", target_i)\n",
    "    print(\"  Count:\", target_dict['count'])\n",
    "    locs = target_dict['locations']\n",
    "    print(\"  Location:\", np.median(locs), \"(\", np.min(locs), \",\", np.max(locs), \")\")\n",
    "    lens = target_dict['lengths']\n",
    "    print(\"  Lengths:\", np.median(lens), \"(\", np.min(lens), \",\", np.max(lens), \")\")"
   ]
  },
  {
   "cell_type": "code",
   "execution_count": null,
   "metadata": {},
   "outputs": [],
   "source": [
    "\"\"\"\n",
    "Plot: deletion length histogram for deletion events that start at this target.\n",
    "\n",
    "Interpretation: The deletion length profiles vary across the targets.\n",
    "The deletion lengths can vary widely, some going up to 200+ bp.\n",
    "Shorter deletions are preferred.\n",
    "\"\"\"\n",
    "plt.figure(figsize=(8,14))\n",
    "for target_i, target_dict in enumerate(del_target_summary):\n",
    "    print(\"Target\", target_i)\n",
    "    plt.subplot(NUM_BARCODE_V7_TARGETS, 1, target_i + 1, xlim = [0, 250])\n",
    "    plt.hist(target_dict['lengths'], bins=30)"
   ]
  },
  {
   "cell_type": "code",
   "execution_count": null,
   "metadata": {},
   "outputs": [],
   "source": [
    "\"\"\"\n",
    "How often do intertarget deletions occur?\n",
    "e.g. do targets 0 and 9 often get cut together?\n",
    "\n",
    "Interpretation: most deletions are in the same target. The next most common deletions occur across two targets.\n",
    "There are very few very long inter-target deletions.\n",
    "\"\"\"\n",
    "uniq_deletion_strs = set()\n",
    "intertarget_pairs = np.zeros((NUM_BARCODE_V7_TARGETS, NUM_BARCODE_V7_TARGETS))\n",
    "for b in cell_reads.uniq_barcodes:\n",
    "    for evt in b.events:\n",
    "        if evt.del_len > 0:\n",
    "            uniq_deletion_strs.add(evt)\n",
    "            intertarget_pairs[evt.min_target, evt.max_target] += 1\n",
    "plt.imshow(intertarget_pairs, cmap='hot')\n",
    "plt.colorbar()"
   ]
  },
  {
   "cell_type": "code",
   "execution_count": null,
   "metadata": {},
   "outputs": [],
   "source": [
    "\"\"\"\n",
    "Average number of targets disturbed for each barcode\n",
    "\n",
    "Interpretation: Most barcodes have most targets modified by the time we sequence.\n",
    "This is like how the paper mentioned that we have saturated the barcodes.\n",
    "\"\"\"\n",
    "all_num_disturbed = []\n",
    "for b in cell_reads.uniq_barcodes:\n",
    "    disturbed_targs = [0 for i in range(10)]\n",
    "    for evt in b.events:\n",
    "        for targ in range(evt.min_target, evt.max_target + 1):\n",
    "            disturbed_targs[targ] = 1\n",
    "    num_disturbed = sum(disturbed_targs)\n",
    "    all_num_disturbed.append(num_disturbed)\n",
    "Counter(all_num_disturbed)"
   ]
  },
  {
   "cell_type": "code",
   "execution_count": null,
   "metadata": {},
   "outputs": [],
   "source": []
  },
  {
   "cell_type": "code",
   "execution_count": null,
   "metadata": {},
   "outputs": [],
   "source": []
  }
 ],
 "metadata": {
  "kernelspec": {
   "display_name": "Python 3",
   "language": "python",
   "name": "python3"
  },
  "language_info": {
   "codemirror_mode": {
    "name": "ipython",
    "version": 3
   },
   "file_extension": ".py",
   "mimetype": "text/x-python",
   "name": "python",
   "nbconvert_exporter": "python",
   "pygments_lexer": "ipython3",
   "version": "3.6.3"
  }
 },
 "nbformat": 4,
 "nbformat_minor": 2
}
