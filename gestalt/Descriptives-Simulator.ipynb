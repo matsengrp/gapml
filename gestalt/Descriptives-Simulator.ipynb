{
 "cells": [
  {
   "cell_type": "code",
   "execution_count": null,
   "metadata": {
    "collapsed": false
   },
   "outputs": [],
   "source": [
    "%matplotlib inline  \n",
    "\n",
    "from collections import Counter\n",
    "import numpy as np\n",
    "from matplotlib import pyplot as plt\n",
    "import pandas as pd\n",
    "import seaborn as sns\n",
    "\n",
    "from allele import Allele\n",
    "from allele_simulator import AlleleSimulator\n",
    "from all_reads import CellReads, CellRead\n",
    "from cell_state import CellTypeTree, CellState\n",
    "from cell_state_simulator import CellTypeSimulator\n",
    "from clt_simulator import CLTSimulator\n",
    "from clt_observer import CLTObserver\n",
    "from constants import BARCODE_V7, NUM_BARCODE_V7_TARGETS"
   ]
  },
  {
   "cell_type": "code",
   "execution_count": null,
   "metadata": {
    "collapsed": true
   },
   "outputs": [],
   "source": [
    "START_BASE = 120\n",
    "BARCODE_SPACER_LEN = 27\n",
    "TARGET_LEN = 23\n",
    "\n",
    "birth_lambda = 1.2\n",
    "death_lambda = 0.01\n",
    "\n",
    "target_lambdas = [0.3 for _ in range(10)]\n",
    "repair_lambdas = [1, 2]\n",
    "repair_indel_probability = 0.5\n",
    "repair_deletion_lambda = 8\n",
    "repair_insertion_lambda = 0.5\n",
    "\n",
    "time = 10\n",
    "\n",
    "sampling_rate = 0.1"
   ]
  },
  {
   "cell_type": "code",
   "execution_count": null,
   "metadata": {
    "collapsed": false
   },
   "outputs": [],
   "source": [
    "cell_types = [\"brain\", \"eye\"]\n",
    "cell_type_tree = CellTypeTree(cell_type=None, rate=0)\n",
    "cell_type_tree.add_child(\n",
    "    CellTypeTree(cell_type=0, rate=0.05))\n",
    "cell_type_tree.add_child(\n",
    "    CellTypeTree(cell_type=1, rate=0.05))"
   ]
  },
  {
   "cell_type": "code",
   "execution_count": null,
   "metadata": {
    "collapsed": false
   },
   "outputs": [],
   "source": [
    "allele_simulator = AlleleSimulator(\n",
    "        np.array(target_lambdas),\n",
    "        np.array(repair_lambdas), repair_indel_probability,\n",
    "        repair_deletion_lambda, repair_deletion_lambda,\n",
    "        repair_insertion_lambda)\n",
    "cell_type_simulator = CellTypeSimulator(cell_type_tree)\n",
    "clt_simulator = CLTSimulator(\n",
    "    birth_lambda,\n",
    "    death_lambda,\n",
    "    cell_type_simulator,\n",
    "    allele_simulator)"
   ]
  },
  {
   "cell_type": "code",
   "execution_count": null,
   "metadata": {
    "collapsed": false
   },
   "outputs": [],
   "source": [
    "clt = clt_simulator.simulate(Allele(), CellState(categorical=cell_type_tree), time)"
   ]
  },
  {
   "cell_type": "code",
   "execution_count": null,
   "metadata": {
    "collapsed": false
   },
   "outputs": [],
   "source": [
    "observer = CLTObserver(sampling_rate)\n",
    "obs_leaves = observer.observe_leaves(clt, give_pruned_clt=False)\n",
    "\n",
    "all_reads = [CellRead(obs.allele.get_event_encoding(), obs.cell_state.categorical_state) for obs in obs_leaves]\n",
    "print(len(all_reads))\n",
    "cell_type_dict = {\"0\": cell_types[0], \"1\": cell_types[1], \"0,1\": \"0,1\"}\n",
    "cell_reads = CellReads(all_reads, cell_type_dict)"
   ]
  },
  {
   "cell_type": "code",
   "execution_count": null,
   "metadata": {
    "collapsed": false
   },
   "outputs": [],
   "source": [
    "\"\"\"\n",
    "distributions of the number of (visible) events in each cell type\n",
    "\"\"\"\n",
    "df = pd.DataFrame([(cell_reads.organ_dict[x.organ.get_gen_name()], len(x.events)) for x in cell_reads.reads],\n",
    "                  columns=('cell type', 'number of events'))\n",
    "plt.figure(figsize=(20, 3))\n",
    "sns.boxplot(x='cell type', y='number of events', data=df, color='lightgrey')"
   ]
  },
  {
   "cell_type": "code",
   "execution_count": null,
   "metadata": {
    "collapsed": false
   },
   "outputs": [],
   "source": [
    "\"\"\"\n",
    "distributions of the number of exhausted targets in each cell type\n",
    "\"\"\"\n",
    "df = pd.DataFrame([(cell_reads.organ_dict[x.organ.get_gen_name()], len(x.allele.get_used_targets())) for x in cell_reads.reads],\n",
    "                  columns=('cell type', 'number of exhausted targets'))\n",
    "plt.figure(figsize=(20, 3))\n",
    "sns.violinplot(x='cell type', y='number of exhausted targets', data=df, color='lightgrey')"
   ]
  },
  {
   "cell_type": "code",
   "execution_count": null,
   "metadata": {
    "collapsed": false
   },
   "outputs": [],
   "source": [
    "\"\"\"\n",
    "Really basic data characteristics\n",
    "\"\"\"\n",
    "num_cells = len(cell_reads.reads)\n",
    "print(\"# of cells:\", num_cells)\n",
    "print(\"# of unique alleles (alleles):\", len(cell_reads.uniq_alleles))"
   ]
  },
  {
   "cell_type": "code",
   "execution_count": null,
   "metadata": {
    "collapsed": false
   },
   "outputs": [],
   "source": [
    "\"\"\"\n",
    "Organ data distribution\n",
    "\"\"\"\n",
    "organ_allele_dict = dict()\n",
    "for b in cell_reads.reads:\n",
    "    organ= cell_reads.organ_dict[b.organ.get_gen_name()]\n",
    "    if organ not in organ_allele_dict:\n",
    "        organ_allele_dict[organ] = []\n",
    "    organ_allele_dict[organ].append(b)\n",
    "    \n",
    "for organ, alleles in organ_allele_dict.items():\n",
    "    allele_strs = [\".\".join([str(evt) for evt in b.events]) for b in alleles]\n",
    "    uniq_alleles = set(allele_strs)\n",
    "    num_organ_cells = len(alleles)\n",
    "    print(\"# of %s cells: %d (%f%%)\" % (organ, num_organ_cells, (100 * num_organ_cells)/num_cells))\n",
    "    print(\"  # of unique alleles:\", len(uniq_alleles))\n",
    "        "
   ]
  },
  {
   "cell_type": "code",
   "execution_count": null,
   "metadata": {
    "collapsed": true
   },
   "outputs": [],
   "source": [
    "# Process unique insertions\n",
    "uniq_inserts = set()\n",
    "uniq_insert_strs = set()\n",
    "for b in cell_reads.uniq_alleles:\n",
    "    for evt in b.events:\n",
    "        if evt.del_len == 0:\n",
    "            if str(evt) in uniq_insert_strs:\n",
    "                continue\n",
    "            else:\n",
    "                uniq_insert_strs.add(str(evt))\n",
    "                uniq_inserts.add(evt)"
   ]
  },
  {
   "cell_type": "code",
   "execution_count": null,
   "metadata": {
    "collapsed": true
   },
   "outputs": [],
   "source": [
    "# Process insertions with target idx\n",
    "all_insert_target_pos = []\n",
    "for b in cell_reads.uniq_alleles:\n",
    "    for evt in b.events:\n",
    "        if evt.del_len == 0:\n",
    "            all_insert_target_pos.append((evt.min_target, evt))"
   ]
  },
  {
   "cell_type": "code",
   "execution_count": null,
   "metadata": {
    "collapsed": false
   },
   "outputs": [],
   "source": [
    "\"\"\"\n",
    "Interpretation: There aren't that many insertion locations possible\n",
    "\"\"\"\n",
    "num_insert_evt = np.sum([evt.del_len == 0 for evt in cell_reads.uniq_events])\n",
    "print(\"# unique insertion events:\", num_insert_evt)\n",
    "insert_pos = [ins.start_pos for ins in uniq_inserts]\n",
    "num_uniq_insert_start = np.unique(insert_pos).size\n",
    "print(\"# unique insertion positions:\", num_uniq_insert_start)"
   ]
  },
  {
   "cell_type": "code",
   "execution_count": null,
   "metadata": {
    "collapsed": false
   },
   "outputs": [],
   "source": [
    "\"\"\"\n",
    "A summary table of the length of unique insertion events\n",
    "\n",
    "Interpretation: There is actually a wide range of insertion lengths (up to 48 bp!).\n",
    "Most insertions are short. However some insertion lengths seem to be more favorable.\n",
    "Even though we only look at unique insertions, there are a large number of\n",
    "unique insertions that are all length 12, 15, 20, and 23.\n",
    "\"\"\"\n",
    "insert_len = [ins.insert_len for ins in uniq_inserts]\n",
    "Counter(insert_len)"
   ]
  },
  {
   "cell_type": "code",
   "execution_count": null,
   "metadata": {
    "collapsed": false
   },
   "outputs": [],
   "source": [
    "\"\"\"\n",
    "Where are things inserted for each target, what is the usual position, what is the usual length?\n",
    "The numbers below are median (min, max)\n",
    "\"\"\"\n",
    "insert_target_summary = [\n",
    "    {'count': 0, 'locations': [], 'lengths': [], 'uniq_strs': set()} for i in range(NUM_BARCODE_V7_TARGETS)\n",
    "]\n",
    "for target_i, evt in all_insert_target_pos:\n",
    "    if str(evt) in insert_target_summary[target_i]['uniq_strs']:\n",
    "        continue\n",
    "    else:\n",
    "        insert_target_summary[target_i]['uniq_strs'].add(str(evt))\n",
    "        insert_target_summary[target_i][\"count\"] += 1\n",
    "        insert_target_summary[target_i][\"locations\"].append(evt.start_pos)\n",
    "        insert_target_summary[target_i][\"lengths\"].append(evt.insert_len)\n",
    "\n",
    "for target_i, target_dict in enumerate(insert_target_summary):\n",
    "    print(\"Target\", target_i)\n",
    "    print(\"  Count:\", target_dict['count'])\n",
    "    if target_dict['count'] > 0:\n",
    "        locs = target_dict['locations']\n",
    "        print(\"  Location:\", np.median(locs), \"(\", np.min(locs), \",\", np.max(locs), \")\")\n",
    "        lens = target_dict['lengths']\n",
    "        print(\"  Lengths:\", np.median(lens), \"(\", np.min(lens), \",\", np.max(lens), \")\")"
   ]
  },
  {
   "cell_type": "code",
   "execution_count": null,
   "metadata": {
    "collapsed": false
   },
   "outputs": [],
   "source": [
    "\"\"\"\n",
    "Plot: histogram of insertion positions\n",
    "\"\"\"\n",
    "plt.hist(insert_pos, bins=50, log=True)"
   ]
  },
  {
   "cell_type": "code",
   "execution_count": null,
   "metadata": {
    "collapsed": true
   },
   "outputs": [],
   "source": [
    "# Process unique deletions\n",
    "uniq_deletes = set()\n",
    "for b in cell_reads.uniq_alleles:\n",
    "    for evt in b.events:\n",
    "        if evt.del_len > 0:\n",
    "            if evt in uniq_deletes:\n",
    "                continue\n",
    "            else:\n",
    "                uniq_deletes.add(evt)\n",
    "\n",
    "# Process deletions with target idx\n",
    "all_delete_target_pos = []\n",
    "for b in cell_reads.uniq_alleles:\n",
    "    for evt in b.events:\n",
    "        if evt.del_len > 0:\n",
    "            all_delete_target_pos.append((evt.min_target, evt))"
   ]
  },
  {
   "cell_type": "code",
   "execution_count": null,
   "metadata": {
    "collapsed": false
   },
   "outputs": [],
   "source": [
    "\"\"\"\n",
    "Counting deletion events and positions\n",
    "\n",
    "Interpretation: There are quite a lot of deletion positions possible. The total allele is only 270 long.\n",
    "We are starting deletes from almost every position.\n",
    "\"\"\"\n",
    "num_delete_evt = np.sum([evt.del_len == 0 for evt in cell_reads.uniq_events])\n",
    "print(\"# unique delete events:\", num_delete_evt)\n",
    "delete_pos = [deletion.start_pos for deletion in uniq_deletes]\n",
    "num_uniq_delete_start = np.unique(delete_pos).size\n",
    "print(\"# unique deletion start positions:\", num_uniq_delete_start)\n",
    "delete_end_pos = [deletion.start_pos + deletion.del_len - 1 for deletion in uniq_deletes]\n",
    "num_uniq_delete_end = np.unique(delete_end_pos).size\n",
    "print(\"# unique deletion end positions:\", num_uniq_delete_end)"
   ]
  },
  {
   "cell_type": "code",
   "execution_count": null,
   "metadata": {
    "collapsed": false
   },
   "outputs": [],
   "source": [
    "\"\"\"\n",
    "Histogram of the lengths of deletions\n",
    "\"\"\"\n",
    "# A summary table of the length of unique deletion events\n",
    "del_len = [ins.del_len for ins in uniq_deletes]\n",
    "plt.hist(del_len, bins=20)"
   ]
  },
  {
   "cell_type": "code",
   "execution_count": null,
   "metadata": {
    "collapsed": false
   },
   "outputs": [],
   "source": [
    "\"\"\"\n",
    "Plot: histogram of deletion start locations\n",
    "\n",
    "Picture: deletion start locations for each unique deletion event.\n",
    "You can spot 10 peaks, but it's a bit difficult. Deleions can start anywhere!\n",
    "\"\"\"\n",
    "plt.hist(delete_pos, bins=100)"
   ]
  },
  {
   "cell_type": "code",
   "execution_count": null,
   "metadata": {
    "collapsed": false
   },
   "outputs": [],
   "source": [
    "\"\"\"\n",
    "Plot: histogram of deletion end locations\n",
    "\"\"\"\n",
    "plt.hist(delete_end_pos, bins=100)"
   ]
  },
  {
   "cell_type": "code",
   "execution_count": null,
   "metadata": {
    "collapsed": false
   },
   "outputs": [],
   "source": [
    "\"\"\"\n",
    "Where are things deleted for each target, what is the usual position, what is the usual length?\n",
    "The numbers below are median (min, max)\n",
    "\n",
    "Interpretation: The median position for the deletion for each target is pretty evenly spaced.\n",
    "Median deletion length is actually quite high!\n",
    "\"\"\"\n",
    "del_target_summary = [\n",
    "    {'count': 0, 'locations': [], 'lengths': [], 'uniq_evts': set()}\n",
    "    for i in range(NUM_BARCODE_V7_TARGETS)\n",
    "]\n",
    "for target_i, evt in all_delete_target_pos:\n",
    "    del_target_summary[target_i]['uniq_evts'].add(evt)\n",
    "    del_target_summary[target_i][\"count\"] += 1\n",
    "    del_target_summary[target_i][\"locations\"].append(evt.start_pos)\n",
    "    del_target_summary[target_i][\"lengths\"].append(evt.del_len)\n",
    "\n",
    "for target_i, target_dict in enumerate(del_target_summary):\n",
    "    print(\"Target\", target_i)\n",
    "    print(\"  Count:\", target_dict['count'])\n",
    "    if target_dict['count'] > 0:\n",
    "        locs = target_dict['locations']\n",
    "        print(\"  Location:\", np.median(locs), \"(\", np.min(locs), \",\", np.max(locs), \")\")\n",
    "        lens = target_dict['lengths']\n",
    "        print(\"  Lengths:\", np.median(lens), \"(\", np.min(lens), \",\", np.max(lens), \")\")"
   ]
  },
  {
   "cell_type": "code",
   "execution_count": null,
   "metadata": {
    "collapsed": false
   },
   "outputs": [],
   "source": [
    "\"\"\"\n",
    "Plot: deletion length histogram for deletion events that start at this target.\n",
    "\n",
    "Interpretation: The deletion length profiles vary across the targets.\n",
    "The deletion lengths can vary widely, some going up to 200+ bp.\n",
    "Shorter deletions are preferred.\n",
    "\"\"\"\n",
    "plt.figure(figsize=(8,14))\n",
    "for target_i, target_dict in enumerate(del_target_summary):\n",
    "    print(\"Target\", target_i)\n",
    "    plt.subplot(NUM_BARCODE_V7_TARGETS, 1, target_i + 1, xlim = [0, 250])\n",
    "    plt.hist(target_dict['lengths'], bins=30)"
   ]
  },
  {
   "cell_type": "code",
   "execution_count": null,
   "metadata": {
    "collapsed": false
   },
   "outputs": [],
   "source": [
    "\"\"\"\n",
    "How often do intertarget deletions occur?\n",
    "e.g. do targets 0 and 9 often get cut together?\n",
    "\n",
    "Interpretation: most deletions are in the same target. The next most common deletions occur across two targets.\n",
    "There are very few very long inter-target deletions.\n",
    "\"\"\"\n",
    "uniq_deletion_strs = set()\n",
    "intertarget_pairs = np.zeros((NUM_BARCODE_V7_TARGETS, NUM_BARCODE_V7_TARGETS))\n",
    "for b in cell_reads.uniq_alleles:\n",
    "    for evt in b.events:\n",
    "        if evt.del_len > 0:\n",
    "            uniq_deletion_strs.add(evt)\n",
    "            intertarget_pairs[evt.min_target, evt.max_target] += 1\n",
    "plt.imshow(intertarget_pairs, cmap='hot', interpolation='none')\n",
    "plt.colorbar()"
   ]
  },
  {
   "cell_type": "code",
   "execution_count": null,
   "metadata": {
    "collapsed": false
   },
   "outputs": [],
   "source": [
    "\"\"\"\n",
    "Average number of targets disturbed for each allele\n",
    "\n",
    "Interpretation: Most alleles have most targets modified by the time we sequence.\n",
    "This is like how the paper mentioned that we have saturated the alleles.\n",
    "\"\"\"\n",
    "all_num_disturbed = []\n",
    "for b in cell_reads.uniq_alleles:\n",
    "    disturbed_targs = [0 for i in range(10)]\n",
    "    for evt in b.events:\n",
    "        for targ in range(evt.min_target, evt.max_target + 1):\n",
    "            disturbed_targs[targ] = 1\n",
    "    num_disturbed = sum(disturbed_targs)\n",
    "    all_num_disturbed.append(num_disturbed)\n",
    "Counter(all_num_disturbed)"
   ]
  },
  {
   "cell_type": "code",
   "execution_count": null,
   "metadata": {
    "collapsed": true
   },
   "outputs": [],
   "source": []
  },
  {
   "cell_type": "code",
   "execution_count": null,
   "metadata": {
    "collapsed": true
   },
   "outputs": [],
   "source": []
  },
  {
   "cell_type": "code",
   "execution_count": null,
   "metadata": {
    "collapsed": true
   },
   "outputs": [],
   "source": []
  }
 ],
 "metadata": {
  "kernelspec": {
   "display_name": "Python 3",
   "language": "python",
   "name": "python3"
  },
  "language_info": {
   "codemirror_mode": {
    "name": "ipython",
    "version": 3
   },
   "file_extension": ".py",
   "mimetype": "text/x-python",
   "name": "python",
   "nbconvert_exporter": "python",
   "pygments_lexer": "ipython3",
   "version": "3.4.5"
  }
 },
 "nbformat": 4,
 "nbformat_minor": 2
}
