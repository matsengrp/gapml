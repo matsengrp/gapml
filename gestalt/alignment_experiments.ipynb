{
 "cells": [
  {
   "cell_type": "markdown",
   "metadata": {},
   "source": [
    "# Alignment experiments"
   ]
  },
  {
   "cell_type": "markdown",
   "metadata": {},
   "source": [
    "## import necessary classes"
   ]
  },
  {
   "cell_type": "code",
   "execution_count": null,
   "metadata": {
    "collapsed": false
   },
   "outputs": [],
   "source": [
    "import numpy as np\n",
    "from barcode import Barcode\n",
    "from cell_state import CellTypeTree, CellState\n",
    "from cell_state_simulator import CellTypeSimulator\n",
    "from clt_simulator import CLTSimulator\n",
    "from barcode_simulator import BarcodeSimulator\n",
    "from alignment import AlignerNW\n",
    "from clt_observer import CLTObserver\n",
    "from IPython.display import display\n",
    "import pandas as pd\n",
    "%matplotlib inline\n",
    "import matplotlib.pyplot as plt\n",
    "import seaborn as sns\n",
    "from mpl_toolkits.mplot3d import Axes3D\n",
    "from ternary.helpers import simplex_iterator\n",
    "from matplotlib.colors import Normalize"
   ]
  },
  {
   "cell_type": "markdown",
   "metadata": {},
   "source": [
    "## define simulation parameters\n"
   ]
  },
  {
   "cell_type": "code",
   "execution_count": null,
   "metadata": {
    "collapsed": false
   },
   "outputs": [],
   "source": [
    "# time to simulate tree for\n",
    "time = 3.5\n",
    "# base mismatch rate from e.g. sequencing error\n",
    "error_rate = .01 \n",
    "# poisson rates for DSBs on targets\n",
    "target_lambdas = np.array([.5 for _ in range(10)])\n",
    "# poisson rates for NHEJ on targets\n",
    "repair_lambdas = np.array([100 for _ in range(10)]) \n",
    "# probability of imperfect repair\n",
    "indel_probability = .1\n",
    "# left and right average deletion\n",
    "left_deletion_mu = 5\n",
    "right_deletion_mu = 5\n",
    "# average insertion length and dispersion\n",
    "insertion_mu = 1\n",
    "insertion_alpha = 10 # large dispersion for insertions\n",
    "# cell branching process parameters\n",
    "birth_lambda = 1.5\n",
    "death_lambda = 1e-6"
   ]
  },
  {
   "cell_type": "markdown",
   "metadata": {},
   "source": [
    "## define a simple cell-type tree with 3 types to parameterize how cell types (tree node colors) can transition\n",
    "### here the root cell type can transition to one of two descendent cell types"
   ]
  },
  {
   "cell_type": "code",
   "execution_count": null,
   "metadata": {
    "collapsed": false
   },
   "outputs": [],
   "source": [
    "# cell types None, 0, and 1\n",
    "cell_type_tree = CellTypeTree(cell_type=None, rate=0.9)\n",
    "cell_type_tree.add_child(\n",
    "    CellTypeTree(cell_type=0, rate=0.5))\n",
    "cell_type_tree.add_child(\n",
    "    CellTypeTree(cell_type=1, rate=0.2))\n",
    "print(cell_type_tree)"
   ]
  },
  {
   "cell_type": "markdown",
   "metadata": {},
   "source": [
    "## instantiate barcode and tree simulators, and leaf observer"
   ]
  },
  {
   "cell_type": "code",
   "execution_count": null,
   "metadata": {
    "collapsed": false
   },
   "outputs": [],
   "source": [
    "bcode_simulator = BarcodeSimulator(target_lambdas=np.array(target_lambdas),\n",
    "                                   repair_rates=np.array(repair_lambdas),\n",
    "                                   indel_probability=indel_probability,\n",
    "                                   left_del_mu=left_deletion_mu,\n",
    "                                   right_del_mu=right_deletion_mu,\n",
    "                                   insertion_mu=insertion_mu,\n",
    "                                   insertion_alpha=insertion_alpha)\n",
    "cell_state_simulator = CellTypeSimulator(cell_type_tree)\n",
    "# cell lineage tree (CLT) simulator combines barcode simulator, cell state simulator, and branching parameters\n",
    "clt_simulator = CLTSimulator(birth_lambda, death_lambda, cell_state_simulator, bcode_simulator)\n",
    "# observer object for getting the leaves of the tree with some error\n",
    "observer = CLTObserver(sampling_rate=1, error_rate=error_rate)"
   ]
  },
  {
   "cell_type": "markdown",
   "metadata": {},
   "source": [
    "## simulate a cell lineage tree"
   ]
  },
  {
   "cell_type": "code",
   "execution_count": null,
   "metadata": {
    "collapsed": false
   },
   "outputs": [],
   "source": [
    "# keep simulating until we get a tree with at least 100 leaves\n",
    "for trial in range(1, 101):    \n",
    "    obs_leaves, pruned_clt = observer.observe_leaves(clt_simulator.simulate(Barcode(),\n",
    "                                                                            CellState(categorical=cell_type_tree),\n",
    "                                                                            time))\n",
    "    print('try {}, {} leaves'.format(trial, len(obs_leaves)), end='\\r')\n",
    "    if len(obs_leaves) >= 100:\n",
    "        break\n",
    "# plot the editing profile as in Aaron et al.\n",
    "# pruned_clt.editing_profile(\"foo.profile.pdf\") # uncomment to save image\n",
    "pruned_clt.editing_profile()\n",
    "plt.show()\n",
    "# show the tree with alignment\n",
    "display(pruned_clt.savefig(\"%%inline\"))\n",
    "# pruned_clt.savefig(\"foo.pdf\") # uncomment to save image\n",
    "# save the barcode objects on the leaves for later\n",
    "barcodes_tree = [leaf.barcode for leaf in obs_leaves]"
   ]
  },
  {
   "cell_type": "markdown",
   "metadata": {},
   "source": [
    "## simulate a list of independent barcodes, each with 1 edit\n",
    "### and plot the joint and marginal distributions of event start/end positions"
   ]
  },
  {
   "cell_type": "code",
   "execution_count": null,
   "metadata": {
    "collapsed": false,
    "scrolled": false
   },
   "outputs": [],
   "source": [
    "barcodes_1event = []\n",
    "start_end = []\n",
    "while len(barcodes_1event) < 500:\n",
    "    new_barcode = bcode_simulator.simulate(Barcode(), 1)\n",
    "    if len(new_barcode.get_events()) == 1:\n",
    "        barcodes_1event.append(new_barcode)\n",
    "        start, end, _ = new_barcode.get_events()[0]\n",
    "        start_end.append([start, end])\n",
    "                \n",
    "df = pd.DataFrame(start_end, columns=('event start position', 'event end position'))        \n",
    "sns.jointplot(x='event start position', y='event end position', data=df,\n",
    "              stat_func=None, joint_kws=dict(alpha=.2), marginal_kws=dict(bins=30))"
   ]
  },
  {
   "cell_type": "markdown",
   "metadata": {},
   "source": [
    "## similarly, simulate a list of independent barcodes, each with 2 edits"
   ]
  },
  {
   "cell_type": "code",
   "execution_count": null,
   "metadata": {
    "collapsed": false
   },
   "outputs": [],
   "source": [
    "barcodes_2events = []\n",
    "while len(barcodes_2events) < 500:\n",
    "    new_barcode = bcode_simulator.simulate(Barcode(), 2)\n",
    "    if len(new_barcode.get_events()) == 2:\n",
    "        barcodes_2events.append(new_barcode)"
   ]
  },
  {
   "cell_type": "markdown",
   "metadata": {},
   "source": [
    "## ASSESSING ALIGNMENT-BASED EVENT INFERENCE\n",
    "- a function that takes a list of barcodes and assesses event identification performance over a simplex of alignment penalty parameters\n",
    "- shows a heatmap of error rate over the parameter simplex, and a bar plot of ranked parameter sets, with default NW parameters as a red bar \n",
    "- note that we only look at a half simplex since gap extension penalty cannot be greater than gap open penalty"
   ]
  },
  {
   "cell_type": "code",
   "execution_count": null,
   "metadata": {
    "collapsed": false
   },
   "outputs": [],
   "source": [
    "def simplex_map(barcodes, scale=10):\n",
    "    default0 = np.array([1, 10, .5])\n",
    "    default = tuple(scale*default0/default0.sum())\n",
    "    \n",
    "    fig = plt.figure(figsize=(7,6))\n",
    "    ax = fig.add_subplot(111, projection='3d')\n",
    "\n",
    "    count_error_rate = dict()\n",
    "    events_true = [sorted(barcode.get_events()) for barcode in barcodes]\n",
    "    counts_true = [len(event) for event in events_true] # count of indels in each events\n",
    "\n",
    "    ijks = [default]\n",
    "    for i, j, k in simplex_iterator(scale, boundary=False):\n",
    "        if j > k:\n",
    "            ijks.append((i, j, k))\n",
    "    for ct, ijk in enumerate(ijks, 1):\n",
    "        i, j, k = ijk        \n",
    "        params = dict(return_all=True, mismatch=-i, gap_open=-j, gap_extend=-k)\n",
    "        events_NW = [barcode.get_events(aligner=AlignerNW(**params)) for barcode in barcodes]       \n",
    "        miscalled_barcodes = [(x, y) for x,y in zip(events_true, events_NW) if not next((True for yy in y if x == sorted(yy)), False)]\n",
    "        count_NW = [len(events[0]) for events in events_NW]\n",
    "        count_error_rate[(i, j, k)] = sum((y > x if x == 1 else (y < x if x == 2 else y != x)) for x, y in zip(counts_true, count_NW))/len(barcodes)           \n",
    "        print('{:.2%} complete\\r'.format(ct/len(ijks)), end='')\n",
    "    \n",
    "    for i, j, k in count_error_rate:\n",
    "        if (i, j, k) != default:\n",
    "            p = ax.scatter(i, j, k, c=count_error_rate[(i, j, k)], norm=Normalize(vmin=0, vmax=max(count_error_rate.values())), marker='o', cmap='cool')\n",
    "        else:\n",
    "            p = ax.scatter(*default, c='k', marker='+')\n",
    "            \n",
    "    ax.set_xlim([0, scale])\n",
    "    ax.set_ylim([0, scale])\n",
    "    ax.set_zlim([0, scale])\n",
    "    ax.set_xlabel('mismatch penalty')\n",
    "    ax.set_ylabel('gap open penalty')\n",
    "    ax.set_zlabel('gap extend penalty')\n",
    "    ax.view_init(elev=45., azim=45.)\n",
    "    fig.colorbar(p)\n",
    "    plt.tight_layout()\n",
    "    plt.show()\n",
    "    \n",
    "    \n",
    "\n",
    "#     count_error_rate = dict()\n",
    "#     events_true = [sorted(barcode.get_events()) for barcode in barcodes]\n",
    "#     counts_true = [len(event) for event in events_true] # count of indels in each events\n",
    "#     for (i, j, k) in list(simplex_iterator(scale, boundary=False)) + [default]:\n",
    "#         params = dict(return_all=True, mismatch=-i, gap_open=-j, gap_extend=-k)\n",
    "#         if j > k:\n",
    "#             events_NW = [barcode.get_events(aligner=AlignerNW(**params)) for barcode in barcodes]       \n",
    "#             miscalled_barcodes = [(x, y) for x,y in zip(events_true, events_NW) if not next((True for yy in y if x == sorted(yy)), False)]\n",
    "#             count_NW = [len(events[0]) for events in events_NW]\n",
    "#             count_error_rate[(i, j, k)] = sum((y > x if x == 1 else (y < x if x == 2 else y != x)) for x, y in zip(counts_true, count_NW))/len(barcodes)\n",
    "#     ax = ternary.heatmap({key:count_error_rate[key] for key in count_error_rate if key!=default}, scale=scale, cmap=None)\n",
    "    \n",
    "#     plt.figure(figsize=(10,3))\n",
    "    df = pd.DataFrame([[params, count_error_rate[params], (True if params==default else False)] for params in sorted(list(count_error_rate.keys()), key=lambda key: count_error_rate[key])],\n",
    "                      columns=('parameters', 'miscount rate', 'default'))\n",
    "    plt.bar(left=range(len(df.parameters)), height=df['miscount rate'], color=['red' if x else 'gray' for x in df.default])\n",
    "    plt.xlabel('rank')\n",
    "    plt.ylabel('miscount rate')   \n",
    "    best = df['parameters'][0]\n",
    "    best_rate = count_error_rate[best]\n",
    "    best = default0.sum() * np.array(best) / sum(best)\n",
    "    print('best alignment: {}, count error rate: {}'.format(best, best_rate))"
   ]
  },
  {
   "cell_type": "markdown",
   "metadata": {},
   "source": [
    "## using the single-event barcodes, assess how often events are split into more than one"
   ]
  },
  {
   "cell_type": "code",
   "execution_count": null,
   "metadata": {
    "collapsed": false
   },
   "outputs": [],
   "source": [
    "simplex_map(barcodes_1event, 25)"
   ]
  },
  {
   "cell_type": "markdown",
   "metadata": {},
   "source": [
    "## using the double-event barcodes, assess how often the two events are fused into one"
   ]
  },
  {
   "cell_type": "code",
   "execution_count": null,
   "metadata": {
    "collapsed": false
   },
   "outputs": [],
   "source": [
    "simplex_map(barcodes_2events, 25)"
   ]
  },
  {
   "cell_type": "markdown",
   "metadata": {},
   "source": [
    "## using the barcodes from the leaves of the tree, assess how often the number of events is incorrect"
   ]
  },
  {
   "cell_type": "code",
   "execution_count": null,
   "metadata": {
    "collapsed": false
   },
   "outputs": [],
   "source": [
    "simplex_map(barcodes_tree, 25)"
   ]
  },
  {
   "cell_type": "markdown",
   "metadata": {},
   "source": [
    "## to do:\n",
    "- include flanking sequence from Aaron\n",
    "- try cut-site aware gap penalties"
   ]
  },
  {
   "cell_type": "code",
   "execution_count": null,
   "metadata": {
    "collapsed": true
   },
   "outputs": [],
   "source": []
  }
 ],
 "metadata": {
  "kernelspec": {
   "display_name": "Python 3",
   "language": "python",
   "name": "python3"
  },
  "language_info": {
   "codemirror_mode": {
    "name": "ipython",
    "version": 3
   },
   "file_extension": ".py",
   "mimetype": "text/x-python",
   "name": "python",
   "nbconvert_exporter": "python",
   "pygments_lexer": "ipython3",
   "version": "3.4.5"
  }
 },
 "nbformat": 4,
 "nbformat_minor": 2
}
