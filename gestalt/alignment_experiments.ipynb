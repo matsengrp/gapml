{
 "cells": [
  {
   "cell_type": "markdown",
   "metadata": {},
   "source": [
    "# Alignment experiments\n",
    "## summary:\n",
    "- simulate a forest of trees with the same simulation parameters\n",
    "- observe the barcodes from the leaves of the trees\n",
    "- use Needleman-Wunsch alignment to infer the indel events on these leaves\n",
    "- assess how many barcodes in each simulation have their events correctly inferred"
   ]
  },
  {
   "cell_type": "markdown",
   "metadata": {},
   "source": [
    "## SIMULATIONS\n",
    "### import necessary classes"
   ]
  },
  {
   "cell_type": "code",
   "execution_count": null,
   "metadata": {
    "collapsed": false
   },
   "outputs": [],
   "source": [
    "import numpy as np\n",
    "\n",
    "from barcode import Barcode\n",
    "from cell_state import CellTypeTree, CellState\n",
    "from cell_state_simulator import CellTypeSimulator\n",
    "from clt_simulator import CLTSimulator\n",
    "from barcode_simulator import BarcodeSimulator\n",
    "from alignment import AlignerNW\n",
    "from clt_observer import CLTObserver\n",
    "from IPython.display import display\n",
    "import pandas as pd\n",
    "%matplotlib inline\n",
    "import matplotlib.pyplot as plt\n",
    "import seaborn as sns"
   ]
  },
  {
   "cell_type": "markdown",
   "metadata": {},
   "source": [
    "### define simulation parameters\n"
   ]
  },
  {
   "cell_type": "code",
   "execution_count": null,
   "metadata": {
    "collapsed": false
   },
   "outputs": [],
   "source": [
    "n_trees = 20\n",
    "time = 3\n",
    "error_rate = .01\n",
    "target_lambdas = np.array([0.1 for _ in range(10)])\n",
    "repair_lambdas = np.array([1 for _ in range(10)])\n",
    "indel_probability = .5\n",
    "left_deletion_mu = 3\n",
    "right_deletion_mu = 3\n",
    "insertion_mu = 3\n",
    "insertion_alpha = 10 # large dispersion for insertions\n",
    "birth_lambda = 1.25\n",
    "death_lambda = 0.01"
   ]
  },
  {
   "cell_type": "markdown",
   "metadata": {},
   "source": [
    "### define a cell-type tree to parameterize how cell types can transition"
   ]
  },
  {
   "cell_type": "code",
   "execution_count": null,
   "metadata": {
    "collapsed": false
   },
   "outputs": [],
   "source": [
    "# cell types 0 and 1\n",
    "cell_type_tree = CellTypeTree(cell_type=None, rate=0.9)\n",
    "cell_type_tree.add_child(\n",
    "    CellTypeTree(cell_type=0, rate=0.5))\n",
    "cell_type_tree.add_child(\n",
    "    CellTypeTree(cell_type=1, rate=0.2))\n",
    "print(cell_type_tree)"
   ]
  },
  {
   "cell_type": "markdown",
   "metadata": {},
   "source": [
    "### instantiate barcode and tree simulators, and leaf observer"
   ]
  },
  {
   "cell_type": "code",
   "execution_count": null,
   "metadata": {
    "collapsed": false
   },
   "outputs": [],
   "source": [
    "bcode_simulator = BarcodeSimulator(target_lambdas=np.array(target_lambdas),\n",
    "                                   repair_rates=np.array(repair_lambdas),\n",
    "                                   indel_probability=indel_probability,\n",
    "                                   left_del_mu=left_deletion_mu,\n",
    "                                   right_del_mu=right_deletion_mu,\n",
    "                                   insertion_mu=insertion_mu,\n",
    "                                   insertion_alpha=insertion_alpha)\n",
    "cell_state_simulator = CellTypeSimulator(cell_type_tree)\n",
    "clt_simulator = CLTSimulator(birth_lambda, death_lambda, cell_state_simulator, bcode_simulator)\n",
    "observer = CLTObserver(sampling_rate=1, error_rate=error_rate)"
   ]
  },
  {
   "cell_type": "markdown",
   "metadata": {},
   "source": [
    "### simulate a forest of observed leaves and trees pruned to the observed lineages"
   ]
  },
  {
   "cell_type": "code",
   "execution_count": null,
   "metadata": {
    "collapsed": false
   },
   "outputs": [],
   "source": [
    "forest_obs_leaves, forest_pruned_clt = zip(*sorted((observer.observe_leaves(clt_simulator.simulate(Barcode(), CellState(categorical=cell_type_tree), time)) for _ in range(n_trees)), key=lambda x: len(x[0])))\n",
    "# display the first of n\n",
    "for tree_idx, pruned_clt in enumerate(forest_pruned_clt, 1):\n",
    "    print('tree {}'.format(tree_idx))\n",
    "    display(pruned_clt.savefig(\"%%inline\"))"
   ]
  },
  {
   "cell_type": "markdown",
   "metadata": {},
   "source": [
    "## ALIGNMENT-BASED EVENT INFERENCE\n",
    "### define a function that takes a list of alignment parameter dictionaries and makes a plot showing the ranked number of simulated barcodes (dashed line) and the number of correct event inference results for each parameter set (colored bars)"
   ]
  },
  {
   "cell_type": "code",
   "execution_count": null,
   "metadata": {
    "collapsed": true
   },
   "outputs": [],
   "source": [
    "def left_align_indel(barcode, event):\n",
    "    raise NotImplementedError()"
   ]
  },
  {
   "cell_type": "code",
   "execution_count": null,
   "metadata": {
    "collapsed": false
   },
   "outputs": [],
   "source": [
    "def alignment_experiment(params_list):\n",
    "    cut_sites = forest_obs_leaves[0][0].barcode.abs_cut_sites\n",
    "    data = []\n",
    "    for params in params_list:\n",
    "        for sim, obs_leaves in enumerate(forest_obs_leaves, 1):\n",
    "            events_true, events_NW = zip(*[(leaf.barcode.get_events(), leaf.barcode.get_events(aligner=AlignerNW(**params))) for leaf in obs_leaves])\n",
    "            miscalled_barcodes = sum(sorted(x) != sorted(y) for x,y in zip(events_true, events_NW))\n",
    "            events_NW_total = sum(len(evts) for evts in events_NW)\n",
    "            events_NW_orphans = sum(sum(evt[0] <= cut_site <= evt[1] - 1 for cut_site in cut_sites) == 0 for evts in events_NW for evt in evts)\n",
    "            data.append([sim,\n",
    "                         miscalled_barcodes,\n",
    "                         len(obs_leaves),\n",
    "                         str(params),\n",
    "                         events_NW_total,\n",
    "                         events_NW_orphans])\n",
    "    df = pd.DataFrame(data=data,\n",
    "                      columns=('simulation',\n",
    "                               'incorrectly annotated barcodes',\n",
    "                               'simulated barcodes',\n",
    "                               'NW parameters',\n",
    "                               'total events',\n",
    "                               'split events'))\n",
    "    df['fraction split'] = df['split events']/df['total events'] \n",
    "    plt.figure(figsize=(10,5))\n",
    "    sns.pointplot(y='simulated barcodes', x='simulation', data=df,\n",
    "                  clip_on=False, color='gray', linestyles='--')    \n",
    "    sns.barplot(y='incorrectly annotated barcodes', x='simulation', hue='NW parameters', data=df)\n",
    "    plt.tight_layout()\n",
    "    plt.show()\n",
    "    plt.figure(figsize=(10,5))\n",
    "    sns.barplot(y='fraction split', x='simulation', hue='NW parameters', data=df)\n",
    "    plt.tight_layout()\n",
    "    plt.show()"
   ]
  },
  {
   "cell_type": "markdown",
   "metadata": {},
   "source": [
    "### experiment 1: different gap open penalties"
   ]
  },
  {
   "cell_type": "code",
   "execution_count": null,
   "metadata": {
    "collapsed": false,
    "scrolled": true
   },
   "outputs": [],
   "source": [
    "params_list = [dict(mismatch=-1, gap_open=gap_open, gap_extend=-.5) for gap_open in (-15, -10, -5, -.5)]\n",
    "alignment_experiment(params_list)"
   ]
  },
  {
   "cell_type": "markdown",
   "metadata": {},
   "source": [
    "### experiment 2: different gap extension penalties"
   ]
  },
  {
   "cell_type": "code",
   "execution_count": null,
   "metadata": {
    "collapsed": false
   },
   "outputs": [],
   "source": [
    "params_list = [dict(mismatch=-1, gap_open=-10, gap_extend=gap_extend) for gap_extend in (-10, -5, -1, -.5, -.1, -.01)]\n",
    "alignment_experiment(params_list)"
   ]
  },
  {
   "cell_type": "markdown",
   "metadata": {},
   "source": [
    "### experiment 3: different mismatch penalties"
   ]
  },
  {
   "cell_type": "code",
   "execution_count": null,
   "metadata": {
    "collapsed": false
   },
   "outputs": [],
   "source": [
    "params_list = [dict(mismatch=mismatch, gap_open=-10, gap_extend=-0.5) for mismatch in (-3, -2, -1, -.5)]\n",
    "alignment_experiment(params_list)"
   ]
  },
  {
   "cell_type": "markdown",
   "metadata": {},
   "source": [
    "## to do:\n",
    "- be soft on left alignment of events, maybe add an option to `get_events`\n",
    "- get flanking sequence from Aaron"
   ]
  },
  {
   "cell_type": "code",
   "execution_count": null,
   "metadata": {
    "collapsed": true
   },
   "outputs": [],
   "source": []
  }
 ],
 "metadata": {
  "kernelspec": {
   "display_name": "Python 3",
   "language": "python",
   "name": "python3"
  },
  "language_info": {
   "codemirror_mode": {
    "name": "ipython",
    "version": 3
   },
   "file_extension": ".py",
   "mimetype": "text/x-python",
   "name": "python",
   "nbconvert_exporter": "python",
   "pygments_lexer": "ipython3",
   "version": "3.4.5"
  }
 },
 "nbformat": 4,
 "nbformat_minor": 2
}
