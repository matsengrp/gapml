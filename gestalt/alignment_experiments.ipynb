{
 "cells": [
  {
   "cell_type": "code",
   "execution_count": null,
   "metadata": {
    "collapsed": false
   },
   "outputs": [],
   "source": [
    "import numpy as np\n",
    "\n",
    "from barcode import Barcode\n",
    "from cell_state import CellTypeTree\n",
    "from clt_simulator import CLTSimulator\n",
    "from barcode_simulator import BarcodeSimulator\n",
    "from alignment import AlignerNW\n",
    "from clt_observer import CLTObserver\n",
    "from IPython.display import display\n",
    "import pandas as pd\n",
    "%matplotlib inline\n",
    "import matplotlib.pyplot as plt\n",
    "import seaborn as sns"
   ]
  },
  {
   "cell_type": "code",
   "execution_count": null,
   "metadata": {
    "collapsed": false
   },
   "outputs": [],
   "source": [
    "n_trees = 10\n",
    "time = 3\n",
    "error_rate = .01\n",
    "target_lambdas = np.array([0.1 for _ in range(10)])\n",
    "repair_lambdas = np.array([1 for _ in range(10)])\n",
    "indel_probability = .5\n",
    "left_deletion_lambda = 3\n",
    "right_deletion_lambda = 3\n",
    "insertion_lambda = .2\n",
    "birth_lambda = 1.25\n",
    "death_lambda = 0.01"
   ]
  },
  {
   "cell_type": "code",
   "execution_count": null,
   "metadata": {
    "collapsed": false
   },
   "outputs": [],
   "source": [
    "# Create a cell-type tree\n",
    "cell_types = [\"brain\", \"eye\"]\n",
    "cell_type_tree = CellTypeTree(cell_type=None, rate=0.1, probability=1.0)\n",
    "cell_type_tree.add_child(\n",
    "    CellTypeTree(cell_type=0, rate=0, probability=0.5))\n",
    "cell_type_tree.add_child(\n",
    "    CellTypeTree(cell_type=1, rate=0, probability=0.5))"
   ]
  },
  {
   "cell_type": "code",
   "execution_count": null,
   "metadata": {
    "collapsed": false
   },
   "outputs": [],
   "source": [
    "# Instantiate barcode and tree simulators, and observer\n",
    "bcode_simulator = BarcodeSimulator(np.array(target_lambdas),\n",
    "                                   np.array(repair_lambdas),\n",
    "                                   indel_probability,\n",
    "                                   left_deletion_lambda,\n",
    "                                   right_deletion_lambda,\n",
    "                                   insertion_lambda)\n",
    "clt_simulator = CLTSimulator(birth_lambda, death_lambda,cell_type_tree, bcode_simulator)\n",
    "observer = CLTObserver(sampling_rate=1, error_rate=error_rate)"
   ]
  },
  {
   "cell_type": "code",
   "execution_count": null,
   "metadata": {
    "collapsed": false
   },
   "outputs": [],
   "source": [
    "# Simulate a forest of observed leaves and pruned trees\n",
    "forest_obs_leaves, forest_pruned_clt = zip(*sorted((observer.observe_leaves(clt_simulator.simulate(time)) for _ in range(n_trees)), key=lambda x: len(x[0])))\n",
    "# display the first of n\n",
    "display(forest_pruned_clt[0].savefig(\"%%inline\"))"
   ]
  },
  {
   "cell_type": "code",
   "execution_count": null,
   "metadata": {
    "collapsed": false
   },
   "outputs": [],
   "source": [
    "def alignment_experiment(params_list):\n",
    "    \"\"\"take a list of alignment parameter dictionaries and make a data frame of event calling results\"\"\"\n",
    "    df = pd.DataFrame(data=[[sim,\n",
    "                             sum(leaf.barcode.get_events() == leaf.barcode.get_events(aligner=AlignerNW(**params)) for leaf in obs_leaves),\n",
    "                             len(obs_leaves), str(params)]\n",
    "                            for sim, obs_leaves in enumerate(forest_obs_leaves, 1) for params in params_list],\n",
    "                      columns=('simulation', 'correctly annotated barcodes', 'simulated barcodes', 'NW parameters'))\n",
    "    plt.figure(figsize=(10,5))\n",
    "    sns.pointplot(y='simulated barcodes', x='simulation', data=df,\n",
    "                  clip_on=False, color='gray', linestyles='--')    \n",
    "    sns.barplot(y='correctly annotated barcodes', x='simulation', hue='NW parameters', data=df)\n",
    "    plt.tight_layout()\n",
    "    plt.show()\n",
    "#     sns.lmplot(x='simulated barcodes', y='correctly annotated barcodes', hue='NW parameters', data=df,\n",
    "#                fit_reg=False, scatter_kws=dict(alpha=.4, clip_on=False))\n",
    "#     ax_max = max(df['simulated barcodes'])\n",
    "#     plt.xlim([0, ax_max])\n",
    "#     plt.ylim([0, ax_max])\n",
    "#     plt.plot([0, ax_max], [0, ax_max], color='gray', ls='--')\n",
    "#     plt.show()"
   ]
  },
  {
   "cell_type": "code",
   "execution_count": null,
   "metadata": {
    "collapsed": false,
    "scrolled": true
   },
   "outputs": [],
   "source": [
    "\"\"\"\n",
    "an experiment with different gap open penalties\n",
    "\"\"\"\n",
    "params_list = [dict(mismatch=-1, gap_open=gap_open, gap_extend=-.5) for gap_open in (-15, -10, -5, -.5)]\n",
    "alignment_experiment(params_list)"
   ]
  },
  {
   "cell_type": "code",
   "execution_count": null,
   "metadata": {
    "collapsed": false
   },
   "outputs": [],
   "source": [
    "\"\"\"\n",
    "an experiment with different gap extension penalties\n",
    "\"\"\"\n",
    "params_list = [dict(mismatch=-1, gap_open=-10, gap_extend=gap_extend) for gap_extend in (-3, -2, -1, -.5)]\n",
    "alignment_experiment(params_list)"
   ]
  },
  {
   "cell_type": "code",
   "execution_count": null,
   "metadata": {
    "collapsed": false
   },
   "outputs": [],
   "source": [
    "\"\"\"\n",
    "an experiment with different mismatch penalties\n",
    "\"\"\"\n",
    "params_list = [dict(mismatch=mismatch, gap_open=-10, gap_extend=-0.5) for mismatch in (-3, -2, -1, -.5)]\n",
    "alignment_experiment(params_list)"
   ]
  },
  {
   "cell_type": "code",
   "execution_count": null,
   "metadata": {
    "collapsed": true
   },
   "outputs": [],
   "source": []
  }
 ],
 "metadata": {
  "kernelspec": {
   "display_name": "Python 3",
   "language": "python",
   "name": "python3"
  },
  "language_info": {
   "codemirror_mode": {
    "name": "ipython",
    "version": 3
   },
   "file_extension": ".py",
   "mimetype": "text/x-python",
   "name": "python",
   "nbconvert_exporter": "python",
   "pygments_lexer": "ipython3",
   "version": "3.4.5"
  }
 },
 "nbformat": 4,
 "nbformat_minor": 2
}
