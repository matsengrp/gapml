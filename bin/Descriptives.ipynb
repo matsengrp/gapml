{
 "cells": [
  {
   "cell_type": "code",
   "execution_count": 1,
   "metadata": {},
   "outputs": [],
   "source": [
    "%matplotlib inline  \n",
    "\n",
    "from collections import Counter\n",
    "import numpy as np\n",
    "from matplotlib import pyplot as plt\n",
    "\n",
    "from read_seq_data import parse_reads_file_format7B\n",
    "from models import EventType\n",
    "\n",
    "from constants import BARCODE_V7, NUM_BARCODE_V7_TARGETS\n",
    "\n",
    "\"\"\"\n",
    "A descriptive analysis of data from the first fish.\n",
    "\"\"\""
   ]
  },
  {
   "cell_type": "code",
   "execution_count": 66,
   "metadata": {},
   "outputs": [],
   "source": [
    "START_BASE = 120\n",
    "BARCODE_SPACER_LEN = 27\n",
    "TARGET_LEN = 23"
   ]
  },
  {
   "cell_type": "code",
   "execution_count": 3,
   "metadata": {},
   "outputs": [],
   "source": [
    "cell_reads = parse_reads_file_format7B(\"../../data/fish_7B_UMI_collapsed_reads.txt\")"
   ]
  },
  {
   "cell_type": "code",
   "execution_count": 11,
   "metadata": {},
   "outputs": [],
   "source": [
    "# Process unique insertions\n",
    "uniq_inserts = set()\n",
    "uniq_insert_strs = set()\n",
    "for b in cell_reads.uniq_barcodes:\n",
    "    for evt in b.uniq_events:\n",
    "        if evt.event_type == EventType.INSERT:\n",
    "            if evt.get_str_id() in uniq_insert_strs:\n",
    "                continue\n",
    "            else:\n",
    "                uniq_insert_strs.add(evt.get_str_id())\n",
    "                uniq_inserts.add(evt)\n",
    "\n",
    "# Process insertions with target idx\n",
    "all_insert_target_pos = []\n",
    "for b in cell_reads.uniq_barcodes:\n",
    "    all_target_evts = b.events\n",
    "    for target_i, target_evts in enumerate(all_target_evts):\n",
    "        for evt in target_evts:\n",
    "            if evt.event_type == EventType.INSERT:\n",
    "                all_insert_target_pos.append((target_i, evt))\n",
    "all_insert_target_pos = np.array(all_insert_target_pos)"
   ]
  },
  {
   "cell_type": "code",
   "execution_count": 14,
   "metadata": {},
   "outputs": [
    {
     "name": "stdout",
     "output_type": "stream",
     "text": [
      "# unique insertion events: 328\n",
      "# unique insertion positions: 59\n"
     ]
    }
   ],
   "source": [
    "\"\"\"\n",
    "Interpretation: There aren't that many insertion locations possible\n",
    "\"\"\"\n",
    "num_insert_evt = np.sum([str_id.startswith(\"EventType.INSERT\") for str_id in cell_reads.event_str_ids])\n",
    "print(\"# unique insertion events:\", num_insert_evt)\n",
    "insert_pos = [ins.start_pos for ins in uniq_inserts]\n",
    "num_uniq_insert_start = np.unique(insert_pos).size\n",
    "print(\"# unique insertion positions:\", num_uniq_insert_start)"
   ]
  },
  {
   "cell_type": "code",
   "execution_count": 22,
   "metadata": {},
   "outputs": [
    {
     "data": {
      "text/plain": [
       "Counter({1: 63,\n",
       "         2: 44,\n",
       "         3: 27,\n",
       "         4: 32,\n",
       "         5: 39,\n",
       "         6: 25,\n",
       "         7: 13,\n",
       "         8: 10,\n",
       "         9: 9,\n",
       "         10: 4,\n",
       "         11: 3,\n",
       "         12: 13,\n",
       "         13: 8,\n",
       "         14: 3,\n",
       "         15: 8,\n",
       "         16: 1,\n",
       "         17: 2,\n",
       "         18: 2,\n",
       "         20: 6,\n",
       "         22: 3,\n",
       "         23: 10,\n",
       "         29: 1,\n",
       "         30: 1,\n",
       "         48: 1})"
      ]
     },
     "execution_count": 22,
     "metadata": {},
     "output_type": "execute_result"
    }
   ],
   "source": [
    "\"\"\"\n",
    "A summary table of the length of unique insertion events\n",
    "\n",
    "Interpretation: There is actually a wide range of insertion lengths (up to 48 bp!).\n",
    "Most insertions are short. However some insertion lengths seem to be more favorable.\n",
    "Even though we only look at unique insertions, there are a large number of\n",
    "unique insertions that are all length 12, 15, 20, and 23.\n",
    "\"\"\"\n",
    "insert_len = [ins.event_len for ins in uniq_inserts]\n",
    "Counter(insert_len)"
   ]
  },
  {
   "cell_type": "code",
   "execution_count": 60,
   "metadata": {},
   "outputs": [
    {
     "name": "stdout",
     "output_type": "stream",
     "text": [
      "Target 0\n",
      "  Count: 85\n",
      "  Location: 140.0 ( 136 , 142 )\n",
      "  Lengths: 6.0 ( 1 , 23 )\n",
      "Target 1\n",
      "  Count: 93\n",
      "  Location: 166.0 ( 163 , 169 )\n",
      "  Lengths: 5.0 ( 1 , 48 )\n",
      "Target 2\n",
      "  Count: 10\n",
      "  Location: 192.5 ( 190 , 195 )\n",
      "  Lengths: 7.0 ( 1 , 22 )\n",
      "Target 3\n",
      "  Count: 46\n",
      "  Location: 220.0 ( 217 , 222 )\n",
      "  Lengths: 5.0 ( 1 , 18 )\n",
      "Target 4\n",
      "  Count: 12\n",
      "  Location: 247.5 ( 245 , 250 )\n",
      "  Lengths: 2.5 ( 1 , 9 )\n",
      "Target 5\n",
      "  Count: 11\n",
      "  Location: 273.0 ( 271 , 275 )\n",
      "  Lengths: 2.0 ( 1 , 10 )\n",
      "Target 6\n",
      "  Count: 17\n",
      "  Location: 301.0 ( 298 , 303 )\n",
      "  Lengths: 2.0 ( 1 , 12 )\n",
      "Target 7\n",
      "  Count: 8\n",
      "  Location: 329.5 ( 325 , 331 )\n",
      "  Lengths: 1.0 ( 1 , 5 )\n",
      "Target 8\n",
      "  Count: 28\n",
      "  Location: 355.0 ( 352 , 358 )\n",
      "  Lengths: 2.5 ( 1 , 8 )\n",
      "Target 9\n",
      "  Count: 18\n",
      "  Location: 382.5 ( 379 , 385 )\n",
      "  Lengths: 4.0 ( 1 , 10 )\n"
     ]
    }
   ],
   "source": [
    "\"\"\"\n",
    "Where are things inserted for each target, what is the usual position, what is the usual length?\n",
    "The numbers below are median (min, max)\n",
    "\n",
    "Interpretation: Looks like insertion location is not always at the cut site. It could be a little left\n",
    "of the cut site due to simultaneous deletions maybe?\n",
    "\"\"\"\n",
    "insert_target_summary = [\n",
    "    {'count': 0, 'locations': [], 'lengths': [], 'uniq_strs': set()} for i in range(NUM_BARCODE_V7_TARGETS)\n",
    "]\n",
    "for target_i, evt in all_insert_target_pos:\n",
    "    if evt.get_str_id() in insert_target_summary[target_i]['uniq_strs']:\n",
    "        continue\n",
    "    else:\n",
    "        insert_target_summary[target_i]['uniq_strs'].add(evt.get_str_id())\n",
    "        insert_target_summary[target_i][\"count\"] += 1\n",
    "        insert_target_summary[target_i][\"locations\"].append(evt.start_pos)\n",
    "        insert_target_summary[target_i][\"lengths\"].append(evt.event_len)\n",
    "\n",
    "for target_i, target_dict in enumerate(insert_target_summary):\n",
    "    print(\"Target\", target_i)\n",
    "    print(\"  Count:\", target_dict['count'])\n",
    "    locs = target_dict['locations']\n",
    "    print(\"  Location:\", np.median(locs), \"(\", np.min(locs), \",\", np.max(locs), \")\")\n",
    "    lens = target_dict['lengths']\n",
    "    print(\"  Lengths:\", np.median(lens), \"(\", np.min(lens), \",\", np.max(lens), \")\")"
   ]
  },
  {
   "cell_type": "code",
   "execution_count": 17,
   "metadata": {},
   "outputs": [
    {
     "data": {
      "text/plain": [
       "(array([ 371.,    9.,    0.,    0.,    0.,   73.,  110.,    0.,    0.,\n",
       "           0.,    3.,   12.,    0.,    0.,    0.,    0.,  205.,  172.,\n",
       "           0.,    0.,    0.,    1.,   22.,    0.,    0.,    0.,    0.,\n",
       "          34.,    0.,    0.,    0.,    0.,    8.,   17.,    0.,    0.,\n",
       "           0.,    1.,    7.,   25.,    0.,    0.,    0.,  271.,   14.,\n",
       "           0.,    0.,    0.,    6.,   32.]),\n",
       " array([ 136.  ,  140.98,  145.96,  150.94,  155.92,  160.9 ,  165.88,\n",
       "         170.86,  175.84,  180.82,  185.8 ,  190.78,  195.76,  200.74,\n",
       "         205.72,  210.7 ,  215.68,  220.66,  225.64,  230.62,  235.6 ,\n",
       "         240.58,  245.56,  250.54,  255.52,  260.5 ,  265.48,  270.46,\n",
       "         275.44,  280.42,  285.4 ,  290.38,  295.36,  300.34,  305.32,\n",
       "         310.3 ,  315.28,  320.26,  325.24,  330.22,  335.2 ,  340.18,\n",
       "         345.16,  350.14,  355.12,  360.1 ,  365.08,  370.06,  375.04,\n",
       "         380.02,  385.  ]),\n",
       " <a list of 50 Patch objects>)"
      ]
     },
     "execution_count": 17,
     "metadata": {},
     "output_type": "execute_result"
    },
    {
     "data": {
      "image/png": "[encoded data removed]",
      "text/plain": [
       "<matplotlib.figure.Figure at 0x13f515b38>"
      ]
     },
     "metadata": {},
     "output_type": "display_data"
    }
   ],
   "source": [
    "\"\"\"\n",
    "Plot: histogram of insertion positions\n",
    "\n",
    "Interpretation: Most insertion positions are centered around the cutting locations.\n",
    "The cut locations are almost equally spaced apart, with some jitter. (This is just a more visual\n",
    "plot of the list above.)\n",
    "\"\"\"\n",
    "plt.hist(insert_pos, bins=50, log=True)"
   ]
  },
  {
   "cell_type": "code",
   "execution_count": 45,
   "metadata": {},
   "outputs": [
    {
     "name": "stdout",
     "output_type": "stream",
     "text": [
      "# simultaneous delete and insert: 10\n",
      "EventType.INSERT: 218+18, TTATCATTTTATGTTATT--EventType.DELETE: 219+1\n",
      "EventType.INSERT: 165+4, TTCT--EventType.DELETE: 166+1\n",
      "EventType.INSERT: 140+4, GAGG--EventType.DELETE: 141+1\n",
      "EventType.INSERT: 355+6, GAAGGC--EventType.DELETE: 356+1\n",
      "EventType.INSERT: 218+6, TCTATT--EventType.DELETE: 219+1\n",
      "EventType.INSERT: 138+5, AGTAT--EventType.DELETE: 139+2\n",
      "EventType.INSERT: 167+1, G--EventType.DELETE: 168+3\n",
      "EventType.INSERT: 271+1, C--EventType.DELETE: 272+11\n",
      "EventType.INSERT: 273+2, TT--EventType.DELETE: 274+1\n",
      "EventType.INSERT: 218+2, TT--EventType.DELETE: 219+1\n"
     ]
    }
   ],
   "source": [
    "\"\"\"\n",
    "Understanding simultaneous deletions and insertions (those that occur in the same position)\n",
    "\n",
    "Interpretation: There are 10/59 insertion events that overlap with a deletion event on the same barcode.\n",
    "My guess is that the two happened at the same time.\n",
    "However I'm a bit surprised that we don't have simultaneous deletion and insertion more often.\n",
    "\"\"\"\n",
    "simult_del_ins = set()\n",
    "for b in cell_reads.uniq_barcodes:\n",
    "    for target_evts in b.events:\n",
    "        start_idx = 0\n",
    "        insert_evts = [evt.event_type == EventType.INSERT for evt in target_evts]\n",
    "        delete_evts = [evt.event_type == EventType.DELETE for evt in target_evts]\n",
    "        insert_offset_posns = [evt.start_pos + 1 for evt in target_evts if evt.event_type == EventType.INSERT]\n",
    "        delete_posns = [evt.start_pos for evt in target_evts if evt.event_type == EventType.DELETE]\n",
    "        num_intersects = (set(insert_offset_posns)).intersection(set(delete_posns))\n",
    "        if len(num_intersects) == 1:\n",
    "            del_idx = delete_evts.index(True)\n",
    "            ins_idx = insert_evts.index(True)\n",
    "            simult_del_ins.add(target_evts[ins_idx].get_str_id() + \"--\" + target_evts[del_idx].get_str_id())\n",
    "print(\"# simultaneous delete and insert:\", len(simult_del_ins))\n",
    "for del_in in simult_del_ins:\n",
    "    print(del_in)"
   ]
  },
  {
   "cell_type": "code",
   "execution_count": 17,
   "metadata": {},
   "outputs": [
    {
     "name": "stdout",
     "output_type": "stream",
     "text": [
      "# insert in a target without any deletions: 259\n",
      "# 2+-insertions in a target: 40\n",
      "# inserts in a target without overlapping deletions: 327\n"
     ]
    }
   ],
   "source": [
    "\"\"\"\n",
    "Understanding complex events involving insertions.\n",
    "Complex events mean there are more than two events in a single target.\n",
    "\n",
    "Interpretation: There are actually plenty of insertion events without a deletion event.\n",
    "There are also insertion events with non-overlapping deletion events. I'm not sure why these occur --\n",
    "is it possible that when we repair the barcode, we actually have a double-strand break in some place and\n",
    "we patch in a couple of the same bases AND insert some new bases?\n",
    "There are also double insertions in the same target.\n",
    "If there are multiple events in the same target, usually the events occur close to each other.\n",
    "It seems like some of these events actually occurred simultaneously, even though we're processing as separate\n",
    "events right now.\n",
    "\"\"\"\n",
    "many_inserts_same_target = set()\n",
    "inserts_no_dels_same_target = set()\n",
    "del_ins_no_simul_same_target = set()\n",
    "for b in cell_reads.uniq_barcodes:\n",
    "    for target_evts in b.events:\n",
    "        start_idx = 0\n",
    "        insert_evts = [evt.event_type == EventType.INSERT for evt in target_evts]\n",
    "        delete_evts = [evt.event_type == EventType.DELETE for evt in target_evts]\n",
    "        target_evt_str = \"--\".join([evt.get_str_id() for evt in target_evts])\n",
    "        if any(insert_evts) and not any(delete_evts):\n",
    "            inserts_no_dels_same_target.add(target_evt_str)\n",
    "        if sum(insert_evts) >= 2:\n",
    "            many_inserts_same_target.add(target_evt_str)\n",
    "        if any(insert_evts):\n",
    "            insert_offset_posns = [evt.start_pos + 1 for evt in target_evts if evt.event_type == EventType.INSERT]\n",
    "            delete_posns = [evt.start_pos for evt in target_evts if evt.event_type == EventType.DELETE]\n",
    "            num_intersects = (set(insert_offset_posns)).intersection(set(delete_posns))\n",
    "            if len(num_intersects) == 0:\n",
    "                target_evt_str = \"--\".join([evt.get_str_id() for evt in target_evts])\n",
    "                del_ins_no_simul_same_target.add(target_evt_str)\n",
    "\n",
    "print(\"# insert in a target without any deletions:\", len(inserts_no_dels_same_target))\n",
    "print(\"# 2+-insertions in a target:\", len(many_inserts_same_target))\n",
    "print(\"# inserts in a target without overlapping deletions:\", len(del_ins_no_simul_same_target))"
   ]
  },
  {
   "cell_type": "code",
   "execution_count": 19,
   "metadata": {},
   "outputs": [],
   "source": [
    "# Process unique deletions\n",
    "uniq_deletes = set()\n",
    "uniq_delete_strs = set()\n",
    "for b in cell_reads.uniq_barcodes:\n",
    "    for evt in b.uniq_events:\n",
    "        if evt.event_type == EventType.DELETE:\n",
    "            if evt.get_str_id() in uniq_delete_strs:\n",
    "                continue\n",
    "            else:\n",
    "                uniq_delete_strs.add(evt.get_str_id())\n",
    "                uniq_deletes.add(evt)\n",
    "\n",
    "# Process deletions with target idx\n",
    "all_delete_target_pos = []\n",
    "for b in cell_reads.uniq_barcodes:\n",
    "    all_target_evts = b.events\n",
    "    for target_i, target_evts in enumerate(all_target_evts):\n",
    "        for evt in target_evts:\n",
    "            if evt.event_type == EventType.DELETE:\n",
    "                all_delete_target_pos.append((target_i, evt))\n",
    "all_delete_target_pos = np.array(all_delete_target_pos)"
   ]
  },
  {
   "cell_type": "code",
   "execution_count": 21,
   "metadata": {},
   "outputs": [
    {
     "name": "stdout",
     "output_type": "stream",
     "text": [
      "# unique delete events: 853\n",
      "# unique deletion positions: 213\n"
     ]
    }
   ],
   "source": [
    "\"\"\"\n",
    "Counting deletion events and positions\n",
    "\n",
    "Interpretation: There are quite a lot of deletion positions possible. The total barcode is only 270 long.\n",
    "We are starting deletes from almost every position.\n",
    "\"\"\"\n",
    "num_delete_evt = np.sum([str_id.startswith(\"EventType.DELETE\") for str_id in cell_reads.event_str_ids])\n",
    "print(\"# unique delete events:\", num_delete_evt)\n",
    "delete_pos = [deletion.start_pos for deletion in uniq_deletes]\n",
    "num_uniq_delete_start = np.unique(delete_pos).size\n",
    "print(\"# unique deletion positions:\", num_uniq_delete_start)"
   ]
  },
  {
   "cell_type": "code",
   "execution_count": 83,
   "metadata": {},
   "outputs": [
    {
     "data": {
      "text/plain": [
       "(array([ 366.,  159.,  107.,   57.,   40.,   21.,   15.,   20.,    9.,\n",
       "           7.,    3.,   12.,   11.,    5.,    6.,    3.,    0.,    2.,\n",
       "           4.,    6.]),\n",
       " array([   1.  ,   12.05,   23.1 ,   34.15,   45.2 ,   56.25,   67.3 ,\n",
       "          78.35,   89.4 ,  100.45,  111.5 ,  122.55,  133.6 ,  144.65,\n",
       "         155.7 ,  166.75,  177.8 ,  188.85,  199.9 ,  210.95,  222.  ]),\n",
       " <a list of 20 Patch objects>)"
      ]
     },
     "execution_count": 83,
     "metadata": {},
     "output_type": "execute_result"
    },
    {
     "data": {
      "image/png": "[encoded data removed]",
      "text/plain": [
       "<matplotlib.figure.Figure at 0x13c62ab38>"
      ]
     },
     "metadata": {},
     "output_type": "display_data"
    }
   ],
   "source": [
    "\"\"\"\n",
    "Histogram of the lengths of deletions\n",
    "\n",
    "Interpretation: Wide range of deletion lengths possible, though more often we delete short lengths.\n",
    "We even have deletions of 222 bp.\n",
    "\"\"\"\n",
    "# A summary table of the length of unique deletion events\n",
    "del_len = [ins.event_len for ins in uniq_deletes]\n",
    "plt.hist(del_len, bins=20)"
   ]
  },
  {
   "cell_type": "code",
   "execution_count": 46,
   "metadata": {},
   "outputs": [
    {
     "data": {
      "text/plain": [
       "(array([  2.,   2.,   4.,  10.,  19.,  24.,  26.,   4.,   1.,   1.,   6.,\n",
       "          9.,  14.,  16.,  25.,  15.,  26.,  12.,   2.,   1.,   4.,   1.,\n",
       "          6.,   5.,   6.,  12.,  18.,   7.,   1.,   5.,   4.,   4.,   2.,\n",
       "         13.,   6.,  15.,  12.,  24.,   5.,   1.,   8.,   4.,   2.,  21.,\n",
       "          9.,  13.,  29.,  14.,   8.,   4.,   0.,  17.,   4.,  11.,  11.,\n",
       "          9.,  21.,  13.,  18.,   7.,   3.,   4.,  15.,   5.,   3.,   5.,\n",
       "         16.,  11.,   0.,   6.,   0.,   2.,   4.,   4.,   8.,   6.,   8.,\n",
       "         10.,   7.,  10.,   4.,   2.,   5.,  10.,  11.,  21.,   9.,  20.,\n",
       "         15.,   5.,   1.,   1.,   2.,   2.,   1.,   2.,   2.,   3.,  11.,\n",
       "          6.]),\n",
       " array([ 123.  ,  125.62,  128.24,  130.86,  133.48,  136.1 ,  138.72,\n",
       "         141.34,  143.96,  146.58,  149.2 ,  151.82,  154.44,  157.06,\n",
       "         159.68,  162.3 ,  164.92,  167.54,  170.16,  172.78,  175.4 ,\n",
       "         178.02,  180.64,  183.26,  185.88,  188.5 ,  191.12,  193.74,\n",
       "         196.36,  198.98,  201.6 ,  204.22,  206.84,  209.46,  212.08,\n",
       "         214.7 ,  217.32,  219.94,  222.56,  225.18,  227.8 ,  230.42,\n",
       "         233.04,  235.66,  238.28,  240.9 ,  243.52,  246.14,  248.76,\n",
       "         251.38,  254.  ,  256.62,  259.24,  261.86,  264.48,  267.1 ,\n",
       "         269.72,  272.34,  274.96,  277.58,  280.2 ,  282.82,  285.44,\n",
       "         288.06,  290.68,  293.3 ,  295.92,  298.54,  301.16,  303.78,\n",
       "         306.4 ,  309.02,  311.64,  314.26,  316.88,  319.5 ,  322.12,\n",
       "         324.74,  327.36,  329.98,  332.6 ,  335.22,  337.84,  340.46,\n",
       "         343.08,  345.7 ,  348.32,  350.94,  353.56,  356.18,  358.8 ,\n",
       "         361.42,  364.04,  366.66,  369.28,  371.9 ,  374.52,  377.14,\n",
       "         379.76,  382.38,  385.  ]),\n",
       " <a list of 100 Patch objects>)"
      ]
     },
     "execution_count": 46,
     "metadata": {},
     "output_type": "execute_result"
    },
    {
     "data": {
      "image/png": "[encoded data removed]",
      "text/plain": [
       "<matplotlib.figure.Figure at 0x136802c18>"
      ]
     },
     "metadata": {},
     "output_type": "display_data"
    }
   ],
   "source": [
    "\"\"\"\n",
    "Plot: histogram of deletion start locations\n",
    "\n",
    "Picture: deletion start locations for each unique deletion event.\n",
    "You can spot 10 peaks, but it's a bit difficult. Deleions can start anywhere!\n",
    "\"\"\"\n",
    "plt.hist(delete_pos, bins=100)"
   ]
  },
  {
   "cell_type": "code",
   "execution_count": 61,
   "metadata": {},
   "outputs": [
    {
     "name": "stdout",
     "output_type": "stream",
     "text": [
      "Target 0\n",
      "  Count: 91\n",
      "  Location: 138.0 ( 123 , 142 )\n",
      "  Lengths: 15.0 ( 1 , 222 )\n",
      "Target 1\n",
      "  Count: 121\n",
      "  Location: 162.0 ( 147 , 169 )\n",
      "  Lengths: 12.0 ( 1 , 219 )\n",
      "Target 2\n",
      "  Count: 60\n",
      "  Location: 191.0 ( 175 , 196 )\n",
      "  Lengths: 22.0 ( 1 , 201 )\n",
      "Target 3\n",
      "  Count: 82\n",
      "  Location: 217.0 ( 203 , 223 )\n",
      "  Lengths: 12.5 ( 1 , 204 )\n",
      "Target 4\n",
      "  Count: 107\n",
      "  Location: 243.0 ( 228 , 250 )\n",
      "  Lengths: 19.0 ( 1 , 152 )\n",
      "Target 5\n",
      "  Count: 104\n",
      "  Location: 269.5 ( 257 , 277 )\n",
      "  Lengths: 26.0 ( 1 , 129 )\n",
      "Target 6\n",
      "  Count: 63\n",
      "  Location: 295.0 ( 284 , 304 )\n",
      "  Lengths: 15.0 ( 1 , 123 )\n",
      "Target 7\n",
      "  Count: 58\n",
      "  Location: 323.5 ( 310 , 331 )\n",
      "  Lengths: 23.5 ( 1 , 71 )\n",
      "Target 8\n",
      "  Count: 98\n",
      "  Location: 348.5 ( 336 , 358 )\n",
      "  Lengths: 11.0 ( 1 , 58 )\n",
      "Target 9\n",
      "  Count: 29\n",
      "  Location: 380.0 ( 365 , 385 )\n",
      "  Lengths: 6.0 ( 1 , 29 )\n"
     ]
    }
   ],
   "source": [
    "\"\"\"\n",
    "Where are things deleted for each target, what is the usual position, what is the usual length?\n",
    "The numbers below are median (min, max)\n",
    "\n",
    "Interpretation: The median position for the deletion for each target is pretty evenly spaced.\n",
    "Median deletion length is actually quite high!\n",
    "\"\"\"\n",
    "del_target_summary = [\n",
    "    {'count': 0, 'locations': [], 'lengths': [], 'uniq_strs': set()}\n",
    "    for i in range(NUM_BARCODE_V7_TARGETS)\n",
    "]\n",
    "for target_i, evt in all_delete_target_pos:\n",
    "    is_target_i_start = evt.start_pos >= START_BASE + BARCODE_SPACER_LEN * target_i\n",
    "    is_target_i_end = evt.start_pos <= START_BASE + BARCODE_SPACER_LEN * (target_i + 1)\n",
    "    if is_target_i_start and is_target_i_end:\n",
    "        if evt.get_str_id() in del_target_summary[target_i]['uniq_strs']:\n",
    "            continue\n",
    "        else:\n",
    "            del_target_summary[target_i]['uniq_strs'].add(evt.get_str_id())\n",
    "            del_target_summary[target_i][\"count\"] += 1\n",
    "            del_target_summary[target_i][\"locations\"].append(evt.start_pos)\n",
    "            del_target_summary[target_i][\"lengths\"].append(evt.event_len)\n",
    "\n",
    "for target_i, target_dict in enumerate(del_target_summary):\n",
    "    print(\"Target\", target_i)\n",
    "    print(\"  Count:\", target_dict['count'])\n",
    "    locs = target_dict['locations']\n",
    "    print(\"  Location:\", np.median(locs), \"(\", np.min(locs), \",\", np.max(locs), \")\")\n",
    "    lens = target_dict['lengths']\n",
    "    print(\"  Lengths:\", np.median(lens), \"(\", np.min(lens), \",\", np.max(lens), \")\")"
   ]
  },
  {
   "cell_type": "code",
   "execution_count": 62,
   "metadata": {},
   "outputs": [
    {
     "name": "stdout",
     "output_type": "stream",
     "text": [
      "Target 0\n",
      "Target 1\n",
      "Target 2\n",
      "Target 3\n",
      "Target 4\n",
      "Target 5\n",
      "Target 6\n",
      "Target 7\n",
      "Target 8\n",
      "Target 9\n"
     ]
    },
    {
     "data": {
      "image/png": "[encoded data removed]",
      "text/plain": [
       "<matplotlib.figure.Figure at 0x13b431748>"
      ]
     },
     "metadata": {},
     "output_type": "display_data"
    }
   ],
   "source": [
    "\"\"\"\n",
    "Plot: deletion length histogram for deletion events that start at this target.\n",
    "\n",
    "Interpretation: The deletion length profiles vary across the targets.\n",
    "The deletion lengths can vary widely, some going up to 200+ bp.\n",
    "Shorter deletions are preferred.\n",
    "\"\"\"\n",
    "plt.figure(figsize=(8,14))\n",
    "for target_i, target_dict in enumerate(del_target_summary):\n",
    "    print(\"Target\", target_i)\n",
    "    plt.subplot(NUM_BARCODE_V7_TARGETS, 1, target_i + 1)\n",
    "    plt.hist(target_dict['lengths'], bins=30)"
   ]
  },
  {
   "cell_type": "code",
   "execution_count": 95,
   "metadata": {},
   "outputs": [
    {
     "data": {
      "text/plain": [
       "<matplotlib.colorbar.Colorbar at 0x13d137240>"
      ]
     },
     "execution_count": 95,
     "metadata": {},
     "output_type": "execute_result"
    },
    {
     "data": {
      "image/png": "[encoded data removed]",
      "text/plain": [
       "<matplotlib.figure.Figure at 0x13c997940>"
      ]
     },
     "metadata": {},
     "output_type": "display_data"
    }
   ],
   "source": [
    "\"\"\"\n",
    "How often do intertarget deletions occur?\n",
    "e.g. do targets 0 and 9 often get cut together?\n",
    "\n",
    "Interpretation: most deletions are in the same target. The next most common deletions occur across two targets.\n",
    "There are very few very long inter-target deletions.\n",
    "\"\"\"\n",
    "uniq_deletion_strs = set()\n",
    "intertarget_pairs = np.zeros((NUM_BARCODE_V7_TARGETS, NUM_BARCODE_V7_TARGETS))\n",
    "for b in cell_reads.uniq_barcodes:\n",
    "    deletions = dict()\n",
    "    for target_idx, target_evts in enumerate(b.events):\n",
    "        for evt in target_evts:\n",
    "            if evt.event_type == EventType.DELETE:\n",
    "                evt_id = evt.get_str_id()\n",
    "                if evt_id in deletions:\n",
    "                    deletions[evt_id].append(target_idx)\n",
    "                else:\n",
    "                    deletions[evt_id] = [target_idx]\n",
    "    for del_evt, del_targets in deletions.items():\n",
    "        if del_evt in uniq_deletion_strs:\n",
    "            continue\n",
    "        else:\n",
    "            uniq_deletion_strs.add(del_evt)\n",
    "            intertarget_pairs[min(del_targets), max(del_targets)] += 1\n",
    "plt.imshow(intertarget_pairs, cmap='hot')\n",
    "plt.colorbar()"
   ]
  },
  {
   "cell_type": "code",
   "execution_count": 72,
   "metadata": {},
   "outputs": [
    {
     "name": "stdout",
     "output_type": "stream",
     "text": [
      "# 2+-deletions in a target: 59\n",
      "# 2+-short-deletions (11 bp or less) in a target: 26\n"
     ]
    }
   ],
   "source": [
    "\"\"\"\n",
    "Understanding double deletions in the same target\n",
    "\n",
    "Interpretation: There are actually some double deletions within the same target.\n",
    "I think it was because a longer deletion occurred but some of the same nucleotides\n",
    "were patched back in so that it may be mis-interpretted as two events instead of\n",
    "a single one.\n",
    "\"\"\"\n",
    "many_dels_same_target = set()\n",
    "many_short_dels_same_target = set()\n",
    "for b in cell_reads.uniq_barcodes:\n",
    "    for target_evts in b.events:\n",
    "        event_lens = [evt.event_len for evt in target_evts if evt.event_type == EventType.DELETE]\n",
    "        if len(event_lens) >= 2:\n",
    "            target_evt_str = \"--\".join([evt.get_str_id() for evt in target_evts])\n",
    "            many_dels_same_target.add(target_evt_str)\n",
    "            if np.all(np.array(event_lens) < TARGET_LEN/2):\n",
    "                many_short_dels_same_target.add(target_evt_str)\n",
    "\n",
    "print(\"# 2+-deletions in a target:\", len(many_dels_same_target))\n",
    "print(\"# 2+-short-deletions (11 bp or less) in a target:\", len(many_short_dels_same_target))"
   ]
  },
  {
   "cell_type": "code",
   "execution_count": 82,
   "metadata": {},
   "outputs": [
    {
     "data": {
      "text/plain": [
       "Counter({0: 1,\n",
       "         2: 3,\n",
       "         3: 10,\n",
       "         4: 19,\n",
       "         5: 34,\n",
       "         6: 81,\n",
       "         7: 205,\n",
       "         8: 431,\n",
       "         9: 294,\n",
       "         10: 60})"
      ]
     },
     "execution_count": 82,
     "metadata": {},
     "output_type": "execute_result"
    }
   ],
   "source": [
    "\"\"\"\n",
    "Average number of targets disturbed for each barcode\n",
    "\n",
    "Interpretation: Most barcodes have most targets modified by the time we sequence.\n",
    "This is like how the paper mentioned that we have saturated the barcodes.\n",
    "\"\"\"\n",
    "all_num_disturbed = []\n",
    "for b in cell_reads.uniq_barcodes:\n",
    "    num_disturbed = sum([len(target_evts) >= 1 for target_evts in b.events])\n",
    "    all_num_disturbed.append(num_disturbed)\n",
    "Counter(all_num_disturbed)"
   ]
  },
  {
   "cell_type": "code",
   "execution_count": null,
   "metadata": {},
   "outputs": [],
   "source": []
  }
 ],
 "metadata": {
  "kernelspec": {
   "display_name": "Python 3",
   "language": "python",
   "name": "python3"
  },
  "language_info": {
   "codemirror_mode": {
    "name": "ipython",
    "version": 3
   },
   "file_extension": ".py",
   "mimetype": "text/x-python",
   "name": "python",
   "nbconvert_exporter": "python",
   "pygments_lexer": "ipython3",
   "version": "3.6.1"
  }
 },
 "nbformat": 4,
 "nbformat_minor": 2
}
